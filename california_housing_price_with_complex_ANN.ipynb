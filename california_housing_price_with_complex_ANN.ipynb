{
  "nbformat": 4,
  "nbformat_minor": 0,
  "metadata": {
    "colab": {
      "provenance": [],
      "collapsed_sections": []
    },
    "kernelspec": {
      "name": "python3",
      "display_name": "Python 3"
    },
    "language_info": {
      "name": "python"
    }
  },
  "cells": [
    {
      "cell_type": "markdown",
      "source": [
        "# Building Complex Models Using the Functional API\n",
        "\n",
        "Let’s predict to the California housing problem and tackle it using one example of a non-sequential neural network, called **Wide & Deep neural network**.\n",
        "This neural network architecture was introduced in a paper by Heng-Tze Cheng et al with title *Wide & Deep Learning for Recommender Systems*.\n",
        "\n",
        "All parts of this section is similar to the original except for the build model part."
      ],
      "metadata": {
        "id": "I6GtZFloS0Ll"
      }
    },
    {
      "cell_type": "markdown",
      "source": [
        "### Using Pandas to load the dataset\n",
        "Let’s load the california housing dataset:"
      ],
      "metadata": {
        "id": "TNoYqiPpUam9"
      }
    },
    {
      "cell_type": "code",
      "execution_count": 1,
      "metadata": {
        "colab": {
          "base_uri": "https://localhost:8080/",
          "height": 270
        },
        "id": "ZiRx4d0YSWsz",
        "outputId": "de9fb9aa-c5fc-4f3e-d4ff-3ca02f23428e"
      },
      "outputs": [
        {
          "output_type": "execute_result",
          "data": {
            "text/plain": [
              "   longitude  latitude  housing_median_age  total_rooms  total_bedrooms  \\\n",
              "0    -122.23     37.88                41.0        880.0           129.0   \n",
              "1    -122.22     37.86                21.0       7099.0          1106.0   \n",
              "2    -122.24     37.85                52.0       1467.0           190.0   \n",
              "3    -122.25     37.85                52.0       1274.0           235.0   \n",
              "4    -122.25     37.85                52.0       1627.0           280.0   \n",
              "\n",
              "   population  households  median_income ocean_proximity  median_house_value  \n",
              "0       322.0       126.0        83252.0        NEAR BAY            452600.0  \n",
              "1      2401.0      1138.0        83014.0        NEAR BAY            358500.0  \n",
              "2       496.0       177.0        72574.0        NEAR BAY            352100.0  \n",
              "3       558.0       219.0        56431.0        NEAR BAY            341300.0  \n",
              "4       565.0       259.0        38462.0        NEAR BAY            342200.0  "
            ],
            "text/html": [
              "\n",
              "  <div id=\"df-ac1eb78b-a543-424b-8f2d-62b3442dfb5e\">\n",
              "    <div class=\"colab-df-container\">\n",
              "      <div>\n",
              "<style scoped>\n",
              "    .dataframe tbody tr th:only-of-type {\n",
              "        vertical-align: middle;\n",
              "    }\n",
              "\n",
              "    .dataframe tbody tr th {\n",
              "        vertical-align: top;\n",
              "    }\n",
              "\n",
              "    .dataframe thead th {\n",
              "        text-align: right;\n",
              "    }\n",
              "</style>\n",
              "<table border=\"1\" class=\"dataframe\">\n",
              "  <thead>\n",
              "    <tr style=\"text-align: right;\">\n",
              "      <th></th>\n",
              "      <th>longitude</th>\n",
              "      <th>latitude</th>\n",
              "      <th>housing_median_age</th>\n",
              "      <th>total_rooms</th>\n",
              "      <th>total_bedrooms</th>\n",
              "      <th>population</th>\n",
              "      <th>households</th>\n",
              "      <th>median_income</th>\n",
              "      <th>ocean_proximity</th>\n",
              "      <th>median_house_value</th>\n",
              "    </tr>\n",
              "  </thead>\n",
              "  <tbody>\n",
              "    <tr>\n",
              "      <th>0</th>\n",
              "      <td>-122.23</td>\n",
              "      <td>37.88</td>\n",
              "      <td>41.0</td>\n",
              "      <td>880.0</td>\n",
              "      <td>129.0</td>\n",
              "      <td>322.0</td>\n",
              "      <td>126.0</td>\n",
              "      <td>83252.0</td>\n",
              "      <td>NEAR BAY</td>\n",
              "      <td>452600.0</td>\n",
              "    </tr>\n",
              "    <tr>\n",
              "      <th>1</th>\n",
              "      <td>-122.22</td>\n",
              "      <td>37.86</td>\n",
              "      <td>21.0</td>\n",
              "      <td>7099.0</td>\n",
              "      <td>1106.0</td>\n",
              "      <td>2401.0</td>\n",
              "      <td>1138.0</td>\n",
              "      <td>83014.0</td>\n",
              "      <td>NEAR BAY</td>\n",
              "      <td>358500.0</td>\n",
              "    </tr>\n",
              "    <tr>\n",
              "      <th>2</th>\n",
              "      <td>-122.24</td>\n",
              "      <td>37.85</td>\n",
              "      <td>52.0</td>\n",
              "      <td>1467.0</td>\n",
              "      <td>190.0</td>\n",
              "      <td>496.0</td>\n",
              "      <td>177.0</td>\n",
              "      <td>72574.0</td>\n",
              "      <td>NEAR BAY</td>\n",
              "      <td>352100.0</td>\n",
              "    </tr>\n",
              "    <tr>\n",
              "      <th>3</th>\n",
              "      <td>-122.25</td>\n",
              "      <td>37.85</td>\n",
              "      <td>52.0</td>\n",
              "      <td>1274.0</td>\n",
              "      <td>235.0</td>\n",
              "      <td>558.0</td>\n",
              "      <td>219.0</td>\n",
              "      <td>56431.0</td>\n",
              "      <td>NEAR BAY</td>\n",
              "      <td>341300.0</td>\n",
              "    </tr>\n",
              "    <tr>\n",
              "      <th>4</th>\n",
              "      <td>-122.25</td>\n",
              "      <td>37.85</td>\n",
              "      <td>52.0</td>\n",
              "      <td>1627.0</td>\n",
              "      <td>280.0</td>\n",
              "      <td>565.0</td>\n",
              "      <td>259.0</td>\n",
              "      <td>38462.0</td>\n",
              "      <td>NEAR BAY</td>\n",
              "      <td>342200.0</td>\n",
              "    </tr>\n",
              "  </tbody>\n",
              "</table>\n",
              "</div>\n",
              "      <button class=\"colab-df-convert\" onclick=\"convertToInteractive('df-ac1eb78b-a543-424b-8f2d-62b3442dfb5e')\"\n",
              "              title=\"Convert this dataframe to an interactive table.\"\n",
              "              style=\"display:none;\">\n",
              "        \n",
              "  <svg xmlns=\"http://www.w3.org/2000/svg\" height=\"24px\"viewBox=\"0 0 24 24\"\n",
              "       width=\"24px\">\n",
              "    <path d=\"M0 0h24v24H0V0z\" fill=\"none\"/>\n",
              "    <path d=\"M18.56 5.44l.94 2.06.94-2.06 2.06-.94-2.06-.94-.94-2.06-.94 2.06-2.06.94zm-11 1L8.5 8.5l.94-2.06 2.06-.94-2.06-.94L8.5 2.5l-.94 2.06-2.06.94zm10 10l.94 2.06.94-2.06 2.06-.94-2.06-.94-.94-2.06-.94 2.06-2.06.94z\"/><path d=\"M17.41 7.96l-1.37-1.37c-.4-.4-.92-.59-1.43-.59-.52 0-1.04.2-1.43.59L10.3 9.45l-7.72 7.72c-.78.78-.78 2.05 0 2.83L4 21.41c.39.39.9.59 1.41.59.51 0 1.02-.2 1.41-.59l7.78-7.78 2.81-2.81c.8-.78.8-2.07 0-2.86zM5.41 20L4 18.59l7.72-7.72 1.47 1.35L5.41 20z\"/>\n",
              "  </svg>\n",
              "      </button>\n",
              "      \n",
              "  <style>\n",
              "    .colab-df-container {\n",
              "      display:flex;\n",
              "      flex-wrap:wrap;\n",
              "      gap: 12px;\n",
              "    }\n",
              "\n",
              "    .colab-df-convert {\n",
              "      background-color: #E8F0FE;\n",
              "      border: none;\n",
              "      border-radius: 50%;\n",
              "      cursor: pointer;\n",
              "      display: none;\n",
              "      fill: #1967D2;\n",
              "      height: 32px;\n",
              "      padding: 0 0 0 0;\n",
              "      width: 32px;\n",
              "    }\n",
              "\n",
              "    .colab-df-convert:hover {\n",
              "      background-color: #E2EBFA;\n",
              "      box-shadow: 0px 1px 2px rgba(60, 64, 67, 0.3), 0px 1px 3px 1px rgba(60, 64, 67, 0.15);\n",
              "      fill: #174EA6;\n",
              "    }\n",
              "\n",
              "    [theme=dark] .colab-df-convert {\n",
              "      background-color: #3B4455;\n",
              "      fill: #D2E3FC;\n",
              "    }\n",
              "\n",
              "    [theme=dark] .colab-df-convert:hover {\n",
              "      background-color: #434B5C;\n",
              "      box-shadow: 0px 1px 3px 1px rgba(0, 0, 0, 0.15);\n",
              "      filter: drop-shadow(0px 1px 2px rgba(0, 0, 0, 0.3));\n",
              "      fill: #FFFFFF;\n",
              "    }\n",
              "  </style>\n",
              "\n",
              "      <script>\n",
              "        const buttonEl =\n",
              "          document.querySelector('#df-ac1eb78b-a543-424b-8f2d-62b3442dfb5e button.colab-df-convert');\n",
              "        buttonEl.style.display =\n",
              "          google.colab.kernel.accessAllowed ? 'block' : 'none';\n",
              "\n",
              "        async function convertToInteractive(key) {\n",
              "          const element = document.querySelector('#df-ac1eb78b-a543-424b-8f2d-62b3442dfb5e');\n",
              "          const dataTable =\n",
              "            await google.colab.kernel.invokeFunction('convertToInteractive',\n",
              "                                                     [key], {});\n",
              "          if (!dataTable) return;\n",
              "\n",
              "          const docLinkHtml = 'Like what you see? Visit the ' +\n",
              "            '<a target=\"_blank\" href=https://colab.research.google.com/notebooks/data_table.ipynb>data table notebook</a>'\n",
              "            + ' to learn more about interactive tables.';\n",
              "          element.innerHTML = '';\n",
              "          dataTable['output_type'] = 'display_data';\n",
              "          await google.colab.output.renderOutput(dataTable, element);\n",
              "          const docLink = document.createElement('div');\n",
              "          docLink.innerHTML = docLinkHtml;\n",
              "          element.appendChild(docLink);\n",
              "        }\n",
              "      </script>\n",
              "    </div>\n",
              "  </div>\n",
              "  "
            ]
          },
          "metadata": {},
          "execution_count": 1
        }
      ],
      "source": [
        "import pandas as pd\n",
        "\n",
        "df_housing = pd.read_excel('/content/sample_data/housing_price_train.xlsx')\n",
        "\n",
        "df_housing.head()"
      ]
    },
    {
      "cell_type": "markdown",
      "source": [
        "Let’s take a look at the shape and data type of the data:"
      ],
      "metadata": {
        "id": "H9Uhga6-VD3_"
      }
    },
    {
      "cell_type": "code",
      "source": [
        "print('Training data shape:', df_housing.shape)\n",
        "print('Training data type :', df_housing.dtypes)"
      ],
      "metadata": {
        "colab": {
          "base_uri": "https://localhost:8080/"
        },
        "id": "a4Wn5bs-VEe5",
        "outputId": "92e0c219-10b1-4291-f89b-d0a2bc574758"
      },
      "execution_count": 2,
      "outputs": [
        {
          "output_type": "stream",
          "name": "stdout",
          "text": [
            "Training data shape: (15323, 10)\n",
            "Training data type : longitude             float64\n",
            "latitude              float64\n",
            "housing_median_age    float64\n",
            "total_rooms           float64\n",
            "total_bedrooms        float64\n",
            "population            float64\n",
            "households            float64\n",
            "median_income         float64\n",
            "ocean_proximity        object\n",
            "median_house_value    float64\n",
            "dtype: object\n"
          ]
        }
      ]
    },
    {
      "cell_type": "markdown",
      "source": [
        "Based on training data, we have 15.323 data with 10 features which goes to longitude, latitude, until median_house_value.\n",
        "\n",
        "Note that each feature is already in float64 type except for ocean_proximity. Most Machine Learning algorithms prefer to work with numbers, so let’s convert these categories from\n",
        "text to numbers. For this, we can use Scikit-Learn’s `LabelEncoder` class:"
      ],
      "metadata": {
        "id": "1UWkuSjqVH_i"
      }
    },
    {
      "cell_type": "code",
      "source": [
        "from sklearn import preprocessing\n",
        "#creating labelEncoder\n",
        "le = preprocessing.LabelEncoder()\n",
        "\n",
        "# Converting string data into numbers.\n",
        "ocean_proximity_encoded = le.fit_transform(df_housing['ocean_proximity'])\n",
        "print(\"ocean_proximity:\",ocean_proximity_encoded[0:5])"
      ],
      "metadata": {
        "colab": {
          "base_uri": "https://localhost:8080/"
        },
        "id": "qgKMi1GmVIr3",
        "outputId": "75f6ac60-90ea-4eee-d37f-08161390cf33"
      },
      "execution_count": 3,
      "outputs": [
        {
          "output_type": "stream",
          "name": "stdout",
          "text": [
            "ocean_proximity: [3 3 3 3 3]\n"
          ]
        }
      ]
    },
    {
      "cell_type": "code",
      "source": [
        "df_housing['ocean_proximity'] = ocean_proximity_encoded\n",
        "\n",
        "df_housing.head()"
      ],
      "metadata": {
        "colab": {
          "base_uri": "https://localhost:8080/",
          "height": 270
        },
        "id": "gJ4rTT9TVMEw",
        "outputId": "46c7a5f5-4150-4fc9-f340-0bebeab08188"
      },
      "execution_count": 4,
      "outputs": [
        {
          "output_type": "execute_result",
          "data": {
            "text/plain": [
              "   longitude  latitude  housing_median_age  total_rooms  total_bedrooms  \\\n",
              "0    -122.23     37.88                41.0        880.0           129.0   \n",
              "1    -122.22     37.86                21.0       7099.0          1106.0   \n",
              "2    -122.24     37.85                52.0       1467.0           190.0   \n",
              "3    -122.25     37.85                52.0       1274.0           235.0   \n",
              "4    -122.25     37.85                52.0       1627.0           280.0   \n",
              "\n",
              "   population  households  median_income  ocean_proximity  median_house_value  \n",
              "0       322.0       126.0        83252.0                3            452600.0  \n",
              "1      2401.0      1138.0        83014.0                3            358500.0  \n",
              "2       496.0       177.0        72574.0                3            352100.0  \n",
              "3       558.0       219.0        56431.0                3            341300.0  \n",
              "4       565.0       259.0        38462.0                3            342200.0  "
            ],
            "text/html": [
              "\n",
              "  <div id=\"df-68bfa4dc-114e-4910-8c01-ecd53dee90a5\">\n",
              "    <div class=\"colab-df-container\">\n",
              "      <div>\n",
              "<style scoped>\n",
              "    .dataframe tbody tr th:only-of-type {\n",
              "        vertical-align: middle;\n",
              "    }\n",
              "\n",
              "    .dataframe tbody tr th {\n",
              "        vertical-align: top;\n",
              "    }\n",
              "\n",
              "    .dataframe thead th {\n",
              "        text-align: right;\n",
              "    }\n",
              "</style>\n",
              "<table border=\"1\" class=\"dataframe\">\n",
              "  <thead>\n",
              "    <tr style=\"text-align: right;\">\n",
              "      <th></th>\n",
              "      <th>longitude</th>\n",
              "      <th>latitude</th>\n",
              "      <th>housing_median_age</th>\n",
              "      <th>total_rooms</th>\n",
              "      <th>total_bedrooms</th>\n",
              "      <th>population</th>\n",
              "      <th>households</th>\n",
              "      <th>median_income</th>\n",
              "      <th>ocean_proximity</th>\n",
              "      <th>median_house_value</th>\n",
              "    </tr>\n",
              "  </thead>\n",
              "  <tbody>\n",
              "    <tr>\n",
              "      <th>0</th>\n",
              "      <td>-122.23</td>\n",
              "      <td>37.88</td>\n",
              "      <td>41.0</td>\n",
              "      <td>880.0</td>\n",
              "      <td>129.0</td>\n",
              "      <td>322.0</td>\n",
              "      <td>126.0</td>\n",
              "      <td>83252.0</td>\n",
              "      <td>3</td>\n",
              "      <td>452600.0</td>\n",
              "    </tr>\n",
              "    <tr>\n",
              "      <th>1</th>\n",
              "      <td>-122.22</td>\n",
              "      <td>37.86</td>\n",
              "      <td>21.0</td>\n",
              "      <td>7099.0</td>\n",
              "      <td>1106.0</td>\n",
              "      <td>2401.0</td>\n",
              "      <td>1138.0</td>\n",
              "      <td>83014.0</td>\n",
              "      <td>3</td>\n",
              "      <td>358500.0</td>\n",
              "    </tr>\n",
              "    <tr>\n",
              "      <th>2</th>\n",
              "      <td>-122.24</td>\n",
              "      <td>37.85</td>\n",
              "      <td>52.0</td>\n",
              "      <td>1467.0</td>\n",
              "      <td>190.0</td>\n",
              "      <td>496.0</td>\n",
              "      <td>177.0</td>\n",
              "      <td>72574.0</td>\n",
              "      <td>3</td>\n",
              "      <td>352100.0</td>\n",
              "    </tr>\n",
              "    <tr>\n",
              "      <th>3</th>\n",
              "      <td>-122.25</td>\n",
              "      <td>37.85</td>\n",
              "      <td>52.0</td>\n",
              "      <td>1274.0</td>\n",
              "      <td>235.0</td>\n",
              "      <td>558.0</td>\n",
              "      <td>219.0</td>\n",
              "      <td>56431.0</td>\n",
              "      <td>3</td>\n",
              "      <td>341300.0</td>\n",
              "    </tr>\n",
              "    <tr>\n",
              "      <th>4</th>\n",
              "      <td>-122.25</td>\n",
              "      <td>37.85</td>\n",
              "      <td>52.0</td>\n",
              "      <td>1627.0</td>\n",
              "      <td>280.0</td>\n",
              "      <td>565.0</td>\n",
              "      <td>259.0</td>\n",
              "      <td>38462.0</td>\n",
              "      <td>3</td>\n",
              "      <td>342200.0</td>\n",
              "    </tr>\n",
              "  </tbody>\n",
              "</table>\n",
              "</div>\n",
              "      <button class=\"colab-df-convert\" onclick=\"convertToInteractive('df-68bfa4dc-114e-4910-8c01-ecd53dee90a5')\"\n",
              "              title=\"Convert this dataframe to an interactive table.\"\n",
              "              style=\"display:none;\">\n",
              "        \n",
              "  <svg xmlns=\"http://www.w3.org/2000/svg\" height=\"24px\"viewBox=\"0 0 24 24\"\n",
              "       width=\"24px\">\n",
              "    <path d=\"M0 0h24v24H0V0z\" fill=\"none\"/>\n",
              "    <path d=\"M18.56 5.44l.94 2.06.94-2.06 2.06-.94-2.06-.94-.94-2.06-.94 2.06-2.06.94zm-11 1L8.5 8.5l.94-2.06 2.06-.94-2.06-.94L8.5 2.5l-.94 2.06-2.06.94zm10 10l.94 2.06.94-2.06 2.06-.94-2.06-.94-.94-2.06-.94 2.06-2.06.94z\"/><path d=\"M17.41 7.96l-1.37-1.37c-.4-.4-.92-.59-1.43-.59-.52 0-1.04.2-1.43.59L10.3 9.45l-7.72 7.72c-.78.78-.78 2.05 0 2.83L4 21.41c.39.39.9.59 1.41.59.51 0 1.02-.2 1.41-.59l7.78-7.78 2.81-2.81c.8-.78.8-2.07 0-2.86zM5.41 20L4 18.59l7.72-7.72 1.47 1.35L5.41 20z\"/>\n",
              "  </svg>\n",
              "      </button>\n",
              "      \n",
              "  <style>\n",
              "    .colab-df-container {\n",
              "      display:flex;\n",
              "      flex-wrap:wrap;\n",
              "      gap: 12px;\n",
              "    }\n",
              "\n",
              "    .colab-df-convert {\n",
              "      background-color: #E8F0FE;\n",
              "      border: none;\n",
              "      border-radius: 50%;\n",
              "      cursor: pointer;\n",
              "      display: none;\n",
              "      fill: #1967D2;\n",
              "      height: 32px;\n",
              "      padding: 0 0 0 0;\n",
              "      width: 32px;\n",
              "    }\n",
              "\n",
              "    .colab-df-convert:hover {\n",
              "      background-color: #E2EBFA;\n",
              "      box-shadow: 0px 1px 2px rgba(60, 64, 67, 0.3), 0px 1px 3px 1px rgba(60, 64, 67, 0.15);\n",
              "      fill: #174EA6;\n",
              "    }\n",
              "\n",
              "    [theme=dark] .colab-df-convert {\n",
              "      background-color: #3B4455;\n",
              "      fill: #D2E3FC;\n",
              "    }\n",
              "\n",
              "    [theme=dark] .colab-df-convert:hover {\n",
              "      background-color: #434B5C;\n",
              "      box-shadow: 0px 1px 3px 1px rgba(0, 0, 0, 0.15);\n",
              "      filter: drop-shadow(0px 1px 2px rgba(0, 0, 0, 0.3));\n",
              "      fill: #FFFFFF;\n",
              "    }\n",
              "  </style>\n",
              "\n",
              "      <script>\n",
              "        const buttonEl =\n",
              "          document.querySelector('#df-68bfa4dc-114e-4910-8c01-ecd53dee90a5 button.colab-df-convert');\n",
              "        buttonEl.style.display =\n",
              "          google.colab.kernel.accessAllowed ? 'block' : 'none';\n",
              "\n",
              "        async function convertToInteractive(key) {\n",
              "          const element = document.querySelector('#df-68bfa4dc-114e-4910-8c01-ecd53dee90a5');\n",
              "          const dataTable =\n",
              "            await google.colab.kernel.invokeFunction('convertToInteractive',\n",
              "                                                     [key], {});\n",
              "          if (!dataTable) return;\n",
              "\n",
              "          const docLinkHtml = 'Like what you see? Visit the ' +\n",
              "            '<a target=\"_blank\" href=https://colab.research.google.com/notebooks/data_table.ipynb>data table notebook</a>'\n",
              "            + ' to learn more about interactive tables.';\n",
              "          element.innerHTML = '';\n",
              "          dataTable['output_type'] = 'display_data';\n",
              "          await google.colab.output.renderOutput(dataTable, element);\n",
              "          const docLink = document.createElement('div');\n",
              "          docLink.innerHTML = docLinkHtml;\n",
              "          element.appendChild(docLink);\n",
              "        }\n",
              "      </script>\n",
              "    </div>\n",
              "  </div>\n",
              "  "
            ]
          },
          "metadata": {},
          "execution_count": 4
        }
      ]
    },
    {
      "cell_type": "markdown",
      "source": [
        "In California housing, the labels are the value in median_house_value and the features, we want to take all values from longitude to median_income. Then, we need to make a list of features and the labels. Here is the feature and label names:"
      ],
      "metadata": {
        "id": "JMwY30A_VOt3"
      }
    },
    {
      "cell_type": "code",
      "source": [
        "feature_names = ['longitude', 'latitude', 'housing_median_age', 'total_rooms', 'total_bedrooms', 'population', \n",
        "            'households', 'median_income', 'ocean_proximity']\n",
        "label_name = ['median_house_value']\n",
        "\n",
        "features = df_housing[feature_names].values\n",
        "label = df_housing[label_name].values\n",
        "\n",
        "print(features.shape)\n",
        "print(label.shape)"
      ],
      "metadata": {
        "colab": {
          "base_uri": "https://localhost:8080/"
        },
        "id": "9SGc-dJ0VPbI",
        "outputId": "095ac88e-0027-4442-b8ac-7386243f659b"
      },
      "execution_count": 5,
      "outputs": [
        {
          "output_type": "stream",
          "name": "stdout",
          "text": [
            "(15323, 9)\n",
            "(15323, 1)\n"
          ]
        }
      ]
    },
    {
      "cell_type": "markdown",
      "source": [
        "When the value range between your feature is too big, `StandardScaler` is used to resize the distribution of values. This helps us to speed up our optimization algorithm (gradient descent) and obtain a more accurate classifier."
      ],
      "metadata": {
        "id": "Zwir7H3jXu6n"
      }
    },
    {
      "cell_type": "code",
      "source": [
        "from sklearn.preprocessing import MinMaxScaler\n",
        "\n",
        "#Data Normalization\n",
        "scaler = MinMaxScaler(feature_range=(0,1))\n",
        "X = scaler.fit_transform(features)\n",
        "y = scaler.fit_transform(label)\n",
        "\n",
        "print('before scaling:\\n',label[0:5])\n",
        "print('after scaling:\\n',y[0:5])"
      ],
      "metadata": {
        "colab": {
          "base_uri": "https://localhost:8080/"
        },
        "id": "gF0JQgSfXvoR",
        "outputId": "532f123a-1b16-4a89-82a8-6e8f30fb5300"
      },
      "execution_count": 6,
      "outputs": [
        {
          "output_type": "stream",
          "name": "stdout",
          "text": [
            "before scaling:\n",
            " [[452600.]\n",
            " [358500.]\n",
            " [352100.]\n",
            " [341300.]\n",
            " [342200.]]\n",
            "after scaling:\n",
            " [[0.90226638]\n",
            " [0.70824656]\n",
            " [0.69505074]\n",
            " [0.67278279]\n",
            " [0.67463846]]\n"
          ]
        }
      ]
    },
    {
      "cell_type": "markdown",
      "source": [
        "### Creating the deep and wide model using Functional API\n",
        "Let’s build such a neural network to tackle the California housing problem:"
      ],
      "metadata": {
        "id": "2MRuShRqXzNz"
      }
    },
    {
      "cell_type": "code",
      "source": [
        "import tensorflow as tf\n",
        "from tensorflow import keras\n",
        "from keras import layers\n",
        "\n",
        "input_ = layers.Input(shape=X.shape[1:])\n",
        "hidden1 = layers.Dense(30, activation=\"relu\")(input_)\n",
        "hidden2 = layers.Dense(30, activation=\"relu\")(hidden1)\n",
        "concat = layers.Concatenate()([input_, hidden2])\n",
        "output = layers.Dense(1)(concat)\n",
        "model_1 = keras.Model(inputs=[input_], outputs=[output])"
      ],
      "metadata": {
        "id": "1cTXq9dtX3bw"
      },
      "execution_count": 7,
      "outputs": []
    },
    {
      "cell_type": "markdown",
      "source": [
        "Let’s go through each line of this code:\n",
        "* First, we need to create an Input object. This is a specification of the kind of input the model will get, including its shape and dtype. A model may actually have multiple inputs.\n",
        "* Next, we create a Dense layer with 30 neurons, using the ReLU activation function. As soon as it is created, notice that we call it like a function, passing it the input. This is why this is called the Functional API. Note that we are just telling Keras how it should connect the layers together; no actual data is being processed yet.\n",
        "* We then create a second hidden layer, and again we use it as a function. Note that we pass it the output of the first hidden layer.\n",
        "* Next, we create a Concatenate layer, and once again we immediately use it like a function, to concatenate the input and the output of the second hidden layer. You may prefer the `keras.layers.concatenate()` function, which creates a\n",
        "Concatenate layer and immediately calls it with the given inputs.\n",
        "* Then we create the output layer, with a single neuron and no activation function, and we call it like a function, passing it the result of the concatenation.\n",
        "* Lastly, we create a Keras Model, specifying which inputs and outputs to use.\n",
        "\n",
        "Use `keras.utils.plot_model()` to generate an image of your model"
      ],
      "metadata": {
        "id": "Z7i0tSEPczr8"
      }
    },
    {
      "cell_type": "code",
      "source": [
        "keras.utils.plot_model(model_1)"
      ],
      "metadata": {
        "colab": {
          "base_uri": "https://localhost:8080/",
          "height": 466
        },
        "id": "3UGFxMu-f1Ql",
        "outputId": "50092f65-5d1f-4dda-ee8f-b3f7bf01a2b6"
      },
      "execution_count": 8,
      "outputs": [
        {
          "output_type": "execute_result",
          "data": {
            "image/png": "[encoded data removed]",
            "text/plain": [
              "<IPython.core.display.Image object>"
            ]
          },
          "metadata": {},
          "execution_count": 8
        }
      ]
    },
    {
      "cell_type": "code",
      "source": [
        "model_1.summary()"
      ],
      "metadata": {
        "colab": {
          "base_uri": "https://localhost:8080/"
        },
        "id": "3kCFUPRPgvTa",
        "outputId": "9f209483-1d59-4415-bc9b-9b120c0e93bc"
      },
      "execution_count": 9,
      "outputs": [
        {
          "output_type": "stream",
          "name": "stdout",
          "text": [
            "Model: \"model\"\n",
            "__________________________________________________________________________________________________\n",
            " Layer (type)                   Output Shape         Param #     Connected to                     \n",
            "==================================================================================================\n",
            " input_1 (InputLayer)           [(None, 9)]          0           []                               \n",
            "                                                                                                  \n",
            " dense (Dense)                  (None, 30)           300         ['input_1[0][0]']                \n",
            "                                                                                                  \n",
            " dense_1 (Dense)                (None, 30)           930         ['dense[0][0]']                  \n",
            "                                                                                                  \n",
            " concatenate (Concatenate)      (None, 39)           0           ['input_1[0][0]',                \n",
            "                                                                  'dense_1[0][0]']                \n",
            "                                                                                                  \n",
            " dense_2 (Dense)                (None, 1)            40          ['concatenate[0][0]']            \n",
            "                                                                                                  \n",
            "==================================================================================================\n",
            "Total params: 1,270\n",
            "Trainable params: 1,270\n",
            "Non-trainable params: 0\n",
            "__________________________________________________________________________________________________\n"
          ]
        }
      ]
    },
    {
      "cell_type": "markdown",
      "source": [
        "Once you have built the Keras model, everything is exactly like earlier, you must compile the model, train it, evaluate it, and use it to make predictions."
      ],
      "metadata": {
        "id": "WXLPrBfcgkcb"
      }
    },
    {
      "cell_type": "code",
      "source": [
        "model_1.compile(loss=\"mean_squared_error\", optimizer='adam')"
      ],
      "metadata": {
        "id": "iefkrnCkgptc"
      },
      "execution_count": 10,
      "outputs": []
    },
    {
      "cell_type": "code",
      "source": [
        "history = model_1.fit(X, y, batch_size = 10, epochs = 100, \n",
        "                       callbacks=keras.callbacks.EarlyStopping(monitor='val_loss', patience=10), \n",
        "                       verbose=1, validation_split=0.25)"
      ],
      "metadata": {
        "colab": {
          "base_uri": "https://localhost:8080/"
        },
        "id": "vmj9X9Z-g9C1",
        "outputId": "a6cac606-398f-4b60-a8af-0159af2ce860"
      },
      "execution_count": 11,
      "outputs": [
        {
          "output_type": "stream",
          "name": "stdout",
          "text": [
            "Epoch 1/100\n",
            "1150/1150 [==============================] - 6s 5ms/step - loss: 0.0397 - val_loss: 0.0366\n",
            "Epoch 2/100\n",
            "1150/1150 [==============================] - 5s 4ms/step - loss: 0.0236 - val_loss: 0.0212\n",
            "Epoch 3/100\n",
            "1150/1150 [==============================] - 5s 4ms/step - loss: 0.0215 - val_loss: 0.0294\n",
            "Epoch 4/100\n",
            "1150/1150 [==============================] - 5s 4ms/step - loss: 0.0206 - val_loss: 0.0201\n",
            "Epoch 5/100\n",
            "1150/1150 [==============================] - 3s 3ms/step - loss: 0.0202 - val_loss: 0.0312\n",
            "Epoch 6/100\n",
            "1150/1150 [==============================] - 3s 2ms/step - loss: 0.0199 - val_loss: 0.0220\n",
            "Epoch 7/100\n",
            "1150/1150 [==============================] - 3s 2ms/step - loss: 0.0194 - val_loss: 0.0239\n",
            "Epoch 8/100\n",
            "1150/1150 [==============================] - 2s 2ms/step - loss: 0.0190 - val_loss: 0.0264\n",
            "Epoch 9/100\n",
            "1150/1150 [==============================] - 2s 2ms/step - loss: 0.0188 - val_loss: 0.0216\n",
            "Epoch 10/100\n",
            "1150/1150 [==============================] - 3s 2ms/step - loss: 0.0183 - val_loss: 0.0211\n",
            "Epoch 11/100\n",
            "1150/1150 [==============================] - 3s 2ms/step - loss: 0.0180 - val_loss: 0.0267\n",
            "Epoch 12/100\n",
            "1150/1150 [==============================] - 2s 2ms/step - loss: 0.0176 - val_loss: 0.0293\n",
            "Epoch 13/100\n",
            "1150/1150 [==============================] - 2s 2ms/step - loss: 0.0172 - val_loss: 0.0299\n",
            "Epoch 14/100\n",
            "1150/1150 [==============================] - 2s 2ms/step - loss: 0.0170 - val_loss: 0.0231\n"
          ]
        }
      ]
    },
    {
      "cell_type": "code",
      "source": [
        "import pandas as pd\n",
        "import matplotlib.pyplot as plt\n",
        "\n",
        "pd.DataFrame(history.history).plot(figsize=(8, 5))\n",
        "plt.grid(True)\n",
        "plt.gca().set_ylim(0, 0.1) # set the vertical range to [0-1]\n",
        "plt.show()"
      ],
      "metadata": {
        "colab": {
          "base_uri": "https://localhost:8080/",
          "height": 324
        },
        "id": "Y0Aiio1yh6EM",
        "outputId": "0981ffdb-679b-4177-87e2-def01110483b"
      },
      "execution_count": 12,
      "outputs": [
        {
          "output_type": "display_data",
          "data": {
            "text/plain": [
              "<Figure size 576x360 with 1 Axes>"
            ],
            "image/png": "[encoded data removed]"
          },
          "metadata": {
            "needs_background": "light"
          }
        }
      ]
    },
    {
      "cell_type": "markdown",
      "source": [
        "But what if you want to send a subset of the features through the wide path and a different subset (possibly overlapping) through the deep path. In this case, one solution is to use multiple inputs. For example, suppose we want to send five features through the wide path (features 0 to 4), and seven features through the deep path (features 2 to 8):"
      ],
      "metadata": {
        "id": "cR27nixWi2lb"
      }
    },
    {
      "cell_type": "code",
      "source": [
        "import tensorflow as tf\n",
        "from tensorflow import keras\n",
        "from keras import layers\n",
        "\n",
        "input_A = layers.Input(shape=[5], name=\"wide_input\")\n",
        "input_B = layers.Input(shape=[7], name=\"deep_input\")\n",
        "hidden1 = layers.Dense(30, activation=\"relu\", name=\"hidden_1\")(input_B)\n",
        "hidden2 = layers.Dense(30, activation=\"relu\", name=\"hidden_2\")(hidden1)\n",
        "concat = layers.concatenate([input_A, hidden2], name=\"concat_layer\")\n",
        "output = layers.Dense(1, name=\"output\")(concat)\n",
        "model_2 = keras.Model(inputs=[input_A, input_B], outputs=[output], name=\"model_2\")"
      ],
      "metadata": {
        "id": "oiPG2qEjif70"
      },
      "execution_count": 13,
      "outputs": []
    },
    {
      "cell_type": "code",
      "source": [
        "keras.utils.plot_model(model_2)"
      ],
      "metadata": {
        "colab": {
          "base_uri": "https://localhost:8080/",
          "height": 466
        },
        "id": "AOiO5ReCjVVC",
        "outputId": "342772f4-89fa-4466-9687-12188a9f4f35"
      },
      "execution_count": 14,
      "outputs": [
        {
          "output_type": "execute_result",
          "data": {
            "image/png": "[encoded data removed]",
            "text/plain": [
              "<IPython.core.display.Image object>"
            ]
          },
          "metadata": {},
          "execution_count": 14
        }
      ]
    },
    {
      "cell_type": "code",
      "source": [
        "model_2.summary()"
      ],
      "metadata": {
        "colab": {
          "base_uri": "https://localhost:8080/"
        },
        "id": "Z9AxUNTAja0W",
        "outputId": "da89d1c8-1f6a-4233-a691-caca1a9bef6e"
      },
      "execution_count": 15,
      "outputs": [
        {
          "output_type": "stream",
          "name": "stdout",
          "text": [
            "Model: \"model_2\"\n",
            "__________________________________________________________________________________________________\n",
            " Layer (type)                   Output Shape         Param #     Connected to                     \n",
            "==================================================================================================\n",
            " deep_input (InputLayer)        [(None, 7)]          0           []                               \n",
            "                                                                                                  \n",
            " hidden_1 (Dense)               (None, 30)           240         ['deep_input[0][0]']             \n",
            "                                                                                                  \n",
            " wide_input (InputLayer)        [(None, 5)]          0           []                               \n",
            "                                                                                                  \n",
            " hidden_2 (Dense)               (None, 30)           930         ['hidden_1[0][0]']               \n",
            "                                                                                                  \n",
            " concat_layer (Concatenate)     (None, 35)           0           ['wide_input[0][0]',             \n",
            "                                                                  'hidden_2[0][0]']               \n",
            "                                                                                                  \n",
            " output (Dense)                 (None, 1)            36          ['concat_layer[0][0]']           \n",
            "                                                                                                  \n",
            "==================================================================================================\n",
            "Total params: 1,206\n",
            "Trainable params: 1,206\n",
            "Non-trainable params: 0\n",
            "__________________________________________________________________________________________________\n"
          ]
        }
      ]
    },
    {
      "cell_type": "markdown",
      "source": [
        "You should name at least the most important layers, especially when the model gets a bit complex like this. Note that we specified `inputs=[input_A, input_B]` when creating the model. Now we can compile the model as usual, but when we call the `fit()` method, instead of passing a single input\n",
        "matrix X, we must pass a pair of matrices `(X_train_A, X_train_B)`: one per input. The same is true for for X_test when you call `evaluate()` or `predict()`:"
      ],
      "metadata": {
        "id": "krCSIQGgo6MX"
      }
    },
    {
      "cell_type": "code",
      "source": [
        "model_2.compile(loss=\"mean_squared_error\", optimizer='adam')\n",
        "\n",
        "X_train_A, X_train_B = X[:, :5], X[:, 2:]\n",
        "history_2 = model_2.fit((X_train_A, X_train_B), y, batch_size = 10, epochs = 100, \n",
        "                       callbacks=keras.callbacks.EarlyStopping(monitor='val_loss', patience=10), \n",
        "                       verbose=1, validation_split=0.25)"
      ],
      "metadata": {
        "colab": {
          "base_uri": "https://localhost:8080/"
        },
        "id": "yqFlGzPgje9M",
        "outputId": "de9a2b09-4ac4-46ba-9443-3798c93eed93"
      },
      "execution_count": 16,
      "outputs": [
        {
          "output_type": "stream",
          "name": "stdout",
          "text": [
            "Epoch 1/100\n",
            "1150/1150 [==============================] - 3s 2ms/step - loss: 0.0381 - val_loss: 0.0193\n",
            "Epoch 2/100\n",
            "1150/1150 [==============================] - 3s 2ms/step - loss: 0.0252 - val_loss: 0.0200\n",
            "Epoch 3/100\n",
            "1150/1150 [==============================] - 3s 2ms/step - loss: 0.0233 - val_loss: 0.0273\n",
            "Epoch 4/100\n",
            "1150/1150 [==============================] - 3s 2ms/step - loss: 0.0220 - val_loss: 0.0295\n",
            "Epoch 5/100\n",
            "1150/1150 [==============================] - 2s 2ms/step - loss: 0.0212 - val_loss: 0.0245\n",
            "Epoch 6/100\n",
            "1150/1150 [==============================] - 2s 2ms/step - loss: 0.0207 - val_loss: 0.0240\n",
            "Epoch 7/100\n",
            "1150/1150 [==============================] - 2s 2ms/step - loss: 0.0200 - val_loss: 0.0268\n",
            "Epoch 8/100\n",
            "1150/1150 [==============================] - 2s 2ms/step - loss: 0.0198 - val_loss: 0.0228\n",
            "Epoch 9/100\n",
            "1150/1150 [==============================] - 3s 2ms/step - loss: 0.0195 - val_loss: 0.0188\n",
            "Epoch 10/100\n",
            "1150/1150 [==============================] - 3s 2ms/step - loss: 0.0192 - val_loss: 0.0335\n",
            "Epoch 11/100\n",
            "1150/1150 [==============================] - 2s 2ms/step - loss: 0.0191 - val_loss: 0.0226\n",
            "Epoch 12/100\n",
            "1150/1150 [==============================] - 2s 2ms/step - loss: 0.0187 - val_loss: 0.0212\n",
            "Epoch 13/100\n",
            "1150/1150 [==============================] - 2s 2ms/step - loss: 0.0186 - val_loss: 0.0221\n",
            "Epoch 14/100\n",
            "1150/1150 [==============================] - 3s 3ms/step - loss: 0.0183 - val_loss: 0.0236\n",
            "Epoch 15/100\n",
            "1150/1150 [==============================] - 2s 2ms/step - loss: 0.0182 - val_loss: 0.0241\n",
            "Epoch 16/100\n",
            "1150/1150 [==============================] - 3s 2ms/step - loss: 0.0182 - val_loss: 0.0193\n",
            "Epoch 17/100\n",
            "1150/1150 [==============================] - 3s 2ms/step - loss: 0.0180 - val_loss: 0.0248\n",
            "Epoch 18/100\n",
            "1150/1150 [==============================] - 4s 3ms/step - loss: 0.0178 - val_loss: 0.0234\n",
            "Epoch 19/100\n",
            "1150/1150 [==============================] - 3s 2ms/step - loss: 0.0176 - val_loss: 0.0217\n"
          ]
        }
      ]
    },
    {
      "cell_type": "code",
      "source": [
        "import pandas as pd\n",
        "import matplotlib.pyplot as plt\n",
        "\n",
        "pd.DataFrame(history_2.history).plot(figsize=(8, 5))\n",
        "plt.grid(True)\n",
        "plt.gca().set_ylim(0, 0.1) # set the vertical range to [0-1]\n",
        "plt.show()"
      ],
      "metadata": {
        "colab": {
          "base_uri": "https://localhost:8080/",
          "height": 324
        },
        "id": "VSKBaSjdnY6W",
        "outputId": "3674c719-d12a-41fc-f146-e464b6c4a8aa"
      },
      "execution_count": 17,
      "outputs": [
        {
          "output_type": "display_data",
          "data": {
            "text/plain": [
              "<Figure size 576x360 with 1 Axes>"
            ],
            "image/png": "[encoded data removed]"
          },
          "metadata": {
            "needs_background": "light"
          }
        }
      ]
    },
    {
      "cell_type": "markdown",
      "source": [
        "Then we can compare between the `model_1` and `model_2` which better to predict the california housing dataset based on the validation loss."
      ],
      "metadata": {
        "id": "8FqilD70pcoN"
      }
    },
    {
      "cell_type": "code",
      "source": [
        "import numpy as np\n",
        "\n",
        "#MSE comparison of each model\n",
        "MSE_train=[history.history['loss'][-1], history_2.history['loss'][-1]]\n",
        "MSE_valid=[history.history['val_loss'][-1], history_2.history['val_loss'][-1]]\n",
        "kategori=['Model_1', 'Model_2']\n",
        "x = np.arange(len(kategori))\n",
        "width = 0.35\n",
        "\n",
        "plt.figure(figsize=(8,6))\n",
        "plt.bar(x-width/2, MSE_train, width, label='MSE_train')\n",
        "plt.bar(x+width/2, MSE_valid, width, label='MSE_validation')\n",
        "\n",
        "plt.xticks(x, kategori)\n",
        "\n",
        "plt.grid(linestyle='--',\n",
        "         linewidth=1,\n",
        "         axis='y',\n",
        "         alpha=0.75)\n",
        "\n",
        "plt.title('Çomparison Model Evaluation', fontsize=18)\n",
        "plt.xlabel('Model')\n",
        "plt.ylabel('MSE')\n",
        "plt.legend()\n",
        "plt.show()"
      ],
      "metadata": {
        "colab": {
          "base_uri": "https://localhost:8080/",
          "height": 409
        },
        "id": "J_3jQ0EwlzBU",
        "outputId": "9709c6ac-8c9f-4f2d-ecae-af380d94e1b8"
      },
      "execution_count": 18,
      "outputs": [
        {
          "output_type": "display_data",
          "data": {
            "text/plain": [
              "<Figure size 576x432 with 1 Axes>"
            ],
            "image/png": "[encoded data removed]"
          },
          "metadata": {
            "needs_background": "light"
          }
        }
      ]
    },
    {
      "cell_type": "markdown",
      "source": [
        "Based on the output, even `model_1` give smaller loss than `model`2, but the most important thing is the validation loss. Means that the `model_2` is more promising when we used to real data.\n",
        "\n",
        "Once you are satisfied with your model’s validation loss, you should evaluate it on the test set to estimate the generalization error before you deploy the model to production."
      ],
      "metadata": {
        "id": "ncQHOaCHnibO"
      }
    },
    {
      "cell_type": "code",
      "source": [
        "import pandas as pd\n",
        "\n",
        "df_test = pd.read_excel('/content/sample_data/housing_price_test.xlsx')\n",
        "\n",
        "df_test.head()"
      ],
      "metadata": {
        "colab": {
          "base_uri": "https://localhost:8080/",
          "height": 270
        },
        "id": "MS3kQ-oKnkA6",
        "outputId": "c2bbb135-1aa8-43a1-8e47-ef0dd4c8d6c6"
      },
      "execution_count": 19,
      "outputs": [
        {
          "output_type": "execute_result",
          "data": {
            "text/plain": [
              "   longitude  latitude  housing_median_age  total_rooms  total_bedrooms  \\\n",
              "0    -117.20     33.14                19.0       2025.0           414.0   \n",
              "1    -117.22     33.14                 5.0       4576.0           848.0   \n",
              "2    -117.21     33.14                12.0       4839.0           954.0   \n",
              "3    -117.21     33.13                15.0       1889.0           368.0   \n",
              "4    -117.17     33.18                25.0        596.0           115.0   \n",
              "\n",
              "   population  households  median_income ocean_proximity  median_house_value  \n",
              "0      1663.0       403.0        38147.0       <1H OCEAN            139200.0  \n",
              "1      2314.0       705.0        50123.0      NEAR OCEAN            210400.0  \n",
              "2      1708.0       952.0        28586.0       <1H OCEAN            163300.0  \n",
              "3       754.0       409.0        22278.0      NEAR OCEAN            132800.0  \n",
              "4       426.0       137.0        30221.0       <1H OCEAN            214300.0  "
            ],
            "text/html": [
              "\n",
              "  <div id=\"df-b4ef2308-fb3f-484f-b3a7-f3fff3b6b831\">\n",
              "    <div class=\"colab-df-container\">\n",
              "      <div>\n",
              "<style scoped>\n",
              "    .dataframe tbody tr th:only-of-type {\n",
              "        vertical-align: middle;\n",
              "    }\n",
              "\n",
              "    .dataframe tbody tr th {\n",
              "        vertical-align: top;\n",
              "    }\n",
              "\n",
              "    .dataframe thead th {\n",
              "        text-align: right;\n",
              "    }\n",
              "</style>\n",
              "<table border=\"1\" class=\"dataframe\">\n",
              "  <thead>\n",
              "    <tr style=\"text-align: right;\">\n",
              "      <th></th>\n",
              "      <th>longitude</th>\n",
              "      <th>latitude</th>\n",
              "      <th>housing_median_age</th>\n",
              "      <th>total_rooms</th>\n",
              "      <th>total_bedrooms</th>\n",
              "      <th>population</th>\n",
              "      <th>households</th>\n",
              "      <th>median_income</th>\n",
              "      <th>ocean_proximity</th>\n",
              "      <th>median_house_value</th>\n",
              "    </tr>\n",
              "  </thead>\n",
              "  <tbody>\n",
              "    <tr>\n",
              "      <th>0</th>\n",
              "      <td>-117.20</td>\n",
              "      <td>33.14</td>\n",
              "      <td>19.0</td>\n",
              "      <td>2025.0</td>\n",
              "      <td>414.0</td>\n",
              "      <td>1663.0</td>\n",
              "      <td>403.0</td>\n",
              "      <td>38147.0</td>\n",
              "      <td>&lt;1H OCEAN</td>\n",
              "      <td>139200.0</td>\n",
              "    </tr>\n",
              "    <tr>\n",
              "      <th>1</th>\n",
              "      <td>-117.22</td>\n",
              "      <td>33.14</td>\n",
              "      <td>5.0</td>\n",
              "      <td>4576.0</td>\n",
              "      <td>848.0</td>\n",
              "      <td>2314.0</td>\n",
              "      <td>705.0</td>\n",
              "      <td>50123.0</td>\n",
              "      <td>NEAR OCEAN</td>\n",
              "      <td>210400.0</td>\n",
              "    </tr>\n",
              "    <tr>\n",
              "      <th>2</th>\n",
              "      <td>-117.21</td>\n",
              "      <td>33.14</td>\n",
              "      <td>12.0</td>\n",
              "      <td>4839.0</td>\n",
              "      <td>954.0</td>\n",
              "      <td>1708.0</td>\n",
              "      <td>952.0</td>\n",
              "      <td>28586.0</td>\n",
              "      <td>&lt;1H OCEAN</td>\n",
              "      <td>163300.0</td>\n",
              "    </tr>\n",
              "    <tr>\n",
              "      <th>3</th>\n",
              "      <td>-117.21</td>\n",
              "      <td>33.13</td>\n",
              "      <td>15.0</td>\n",
              "      <td>1889.0</td>\n",
              "      <td>368.0</td>\n",
              "      <td>754.0</td>\n",
              "      <td>409.0</td>\n",
              "      <td>22278.0</td>\n",
              "      <td>NEAR OCEAN</td>\n",
              "      <td>132800.0</td>\n",
              "    </tr>\n",
              "    <tr>\n",
              "      <th>4</th>\n",
              "      <td>-117.17</td>\n",
              "      <td>33.18</td>\n",
              "      <td>25.0</td>\n",
              "      <td>596.0</td>\n",
              "      <td>115.0</td>\n",
              "      <td>426.0</td>\n",
              "      <td>137.0</td>\n",
              "      <td>30221.0</td>\n",
              "      <td>&lt;1H OCEAN</td>\n",
              "      <td>214300.0</td>\n",
              "    </tr>\n",
              "  </tbody>\n",
              "</table>\n",
              "</div>\n",
              "      <button class=\"colab-df-convert\" onclick=\"convertToInteractive('df-b4ef2308-fb3f-484f-b3a7-f3fff3b6b831')\"\n",
              "              title=\"Convert this dataframe to an interactive table.\"\n",
              "              style=\"display:none;\">\n",
              "        \n",
              "  <svg xmlns=\"http://www.w3.org/2000/svg\" height=\"24px\"viewBox=\"0 0 24 24\"\n",
              "       width=\"24px\">\n",
              "    <path d=\"M0 0h24v24H0V0z\" fill=\"none\"/>\n",
              "    <path d=\"M18.56 5.44l.94 2.06.94-2.06 2.06-.94-2.06-.94-.94-2.06-.94 2.06-2.06.94zm-11 1L8.5 8.5l.94-2.06 2.06-.94-2.06-.94L8.5 2.5l-.94 2.06-2.06.94zm10 10l.94 2.06.94-2.06 2.06-.94-2.06-.94-.94-2.06-.94 2.06-2.06.94z\"/><path d=\"M17.41 7.96l-1.37-1.37c-.4-.4-.92-.59-1.43-.59-.52 0-1.04.2-1.43.59L10.3 9.45l-7.72 7.72c-.78.78-.78 2.05 0 2.83L4 21.41c.39.39.9.59 1.41.59.51 0 1.02-.2 1.41-.59l7.78-7.78 2.81-2.81c.8-.78.8-2.07 0-2.86zM5.41 20L4 18.59l7.72-7.72 1.47 1.35L5.41 20z\"/>\n",
              "  </svg>\n",
              "      </button>\n",
              "      \n",
              "  <style>\n",
              "    .colab-df-container {\n",
              "      display:flex;\n",
              "      flex-wrap:wrap;\n",
              "      gap: 12px;\n",
              "    }\n",
              "\n",
              "    .colab-df-convert {\n",
              "      background-color: #E8F0FE;\n",
              "      border: none;\n",
              "      border-radius: 50%;\n",
              "      cursor: pointer;\n",
              "      display: none;\n",
              "      fill: #1967D2;\n",
              "      height: 32px;\n",
              "      padding: 0 0 0 0;\n",
              "      width: 32px;\n",
              "    }\n",
              "\n",
              "    .colab-df-convert:hover {\n",
              "      background-color: #E2EBFA;\n",
              "      box-shadow: 0px 1px 2px rgba(60, 64, 67, 0.3), 0px 1px 3px 1px rgba(60, 64, 67, 0.15);\n",
              "      fill: #174EA6;\n",
              "    }\n",
              "\n",
              "    [theme=dark] .colab-df-convert {\n",
              "      background-color: #3B4455;\n",
              "      fill: #D2E3FC;\n",
              "    }\n",
              "\n",
              "    [theme=dark] .colab-df-convert:hover {\n",
              "      background-color: #434B5C;\n",
              "      box-shadow: 0px 1px 3px 1px rgba(0, 0, 0, 0.15);\n",
              "      filter: drop-shadow(0px 1px 2px rgba(0, 0, 0, 0.3));\n",
              "      fill: #FFFFFF;\n",
              "    }\n",
              "  </style>\n",
              "\n",
              "      <script>\n",
              "        const buttonEl =\n",
              "          document.querySelector('#df-b4ef2308-fb3f-484f-b3a7-f3fff3b6b831 button.colab-df-convert');\n",
              "        buttonEl.style.display =\n",
              "          google.colab.kernel.accessAllowed ? 'block' : 'none';\n",
              "\n",
              "        async function convertToInteractive(key) {\n",
              "          const element = document.querySelector('#df-b4ef2308-fb3f-484f-b3a7-f3fff3b6b831');\n",
              "          const dataTable =\n",
              "            await google.colab.kernel.invokeFunction('convertToInteractive',\n",
              "                                                     [key], {});\n",
              "          if (!dataTable) return;\n",
              "\n",
              "          const docLinkHtml = 'Like what you see? Visit the ' +\n",
              "            '<a target=\"_blank\" href=https://colab.research.google.com/notebooks/data_table.ipynb>data table notebook</a>'\n",
              "            + ' to learn more about interactive tables.';\n",
              "          element.innerHTML = '';\n",
              "          dataTable['output_type'] = 'display_data';\n",
              "          await google.colab.output.renderOutput(dataTable, element);\n",
              "          const docLink = document.createElement('div');\n",
              "          docLink.innerHTML = docLinkHtml;\n",
              "          element.appendChild(docLink);\n",
              "        }\n",
              "      </script>\n",
              "    </div>\n",
              "  </div>\n",
              "  "
            ]
          },
          "metadata": {},
          "execution_count": 19
        }
      ]
    },
    {
      "cell_type": "code",
      "source": [
        "print(df_test.shape)"
      ],
      "metadata": {
        "colab": {
          "base_uri": "https://localhost:8080/"
        },
        "id": "iXCV_dF1nlpi",
        "outputId": "5e611869-63f8-446e-94ab-8f9858c24a2f"
      },
      "execution_count": 20,
      "outputs": [
        {
          "output_type": "stream",
          "name": "stdout",
          "text": [
            "(5110, 10)\n"
          ]
        }
      ]
    },
    {
      "cell_type": "code",
      "source": [
        "from sklearn import preprocessing\n",
        "#creating labelEncoder\n",
        "le = preprocessing.LabelEncoder()\n",
        "\n",
        "# Converting string data into numbers.\n",
        "ocean_proximity_encoded = le.fit_transform(df_test['ocean_proximity'])\n",
        "print(\"ocean_proximity:\",ocean_proximity_encoded[0:5])\n",
        "df_test['ocean_proximity'] = ocean_proximity_encoded\n",
        "df_test.head()"
      ],
      "metadata": {
        "colab": {
          "base_uri": "https://localhost:8080/",
          "height": 288
        },
        "id": "0X2BcpM2npWm",
        "outputId": "2981bbfa-082b-42dc-d1c5-1b197ff8e68b"
      },
      "execution_count": 21,
      "outputs": [
        {
          "output_type": "stream",
          "name": "stdout",
          "text": [
            "ocean_proximity: [0 3 0 3 0]\n"
          ]
        },
        {
          "output_type": "execute_result",
          "data": {
            "text/plain": [
              "   longitude  latitude  housing_median_age  total_rooms  total_bedrooms  \\\n",
              "0    -117.20     33.14                19.0       2025.0           414.0   \n",
              "1    -117.22     33.14                 5.0       4576.0           848.0   \n",
              "2    -117.21     33.14                12.0       4839.0           954.0   \n",
              "3    -117.21     33.13                15.0       1889.0           368.0   \n",
              "4    -117.17     33.18                25.0        596.0           115.0   \n",
              "\n",
              "   population  households  median_income  ocean_proximity  median_house_value  \n",
              "0      1663.0       403.0        38147.0                0            139200.0  \n",
              "1      2314.0       705.0        50123.0                3            210400.0  \n",
              "2      1708.0       952.0        28586.0                0            163300.0  \n",
              "3       754.0       409.0        22278.0                3            132800.0  \n",
              "4       426.0       137.0        30221.0                0            214300.0  "
            ],
            "text/html": [
              "\n",
              "  <div id=\"df-dbf4e07a-a56f-4dc3-99c2-b376451ce956\">\n",
              "    <div class=\"colab-df-container\">\n",
              "      <div>\n",
              "<style scoped>\n",
              "    .dataframe tbody tr th:only-of-type {\n",
              "        vertical-align: middle;\n",
              "    }\n",
              "\n",
              "    .dataframe tbody tr th {\n",
              "        vertical-align: top;\n",
              "    }\n",
              "\n",
              "    .dataframe thead th {\n",
              "        text-align: right;\n",
              "    }\n",
              "</style>\n",
              "<table border=\"1\" class=\"dataframe\">\n",
              "  <thead>\n",
              "    <tr style=\"text-align: right;\">\n",
              "      <th></th>\n",
              "      <th>longitude</th>\n",
              "      <th>latitude</th>\n",
              "      <th>housing_median_age</th>\n",
              "      <th>total_rooms</th>\n",
              "      <th>total_bedrooms</th>\n",
              "      <th>population</th>\n",
              "      <th>households</th>\n",
              "      <th>median_income</th>\n",
              "      <th>ocean_proximity</th>\n",
              "      <th>median_house_value</th>\n",
              "    </tr>\n",
              "  </thead>\n",
              "  <tbody>\n",
              "    <tr>\n",
              "      <th>0</th>\n",
              "      <td>-117.20</td>\n",
              "      <td>33.14</td>\n",
              "      <td>19.0</td>\n",
              "      <td>2025.0</td>\n",
              "      <td>414.0</td>\n",
              "      <td>1663.0</td>\n",
              "      <td>403.0</td>\n",
              "      <td>38147.0</td>\n",
              "      <td>0</td>\n",
              "      <td>139200.0</td>\n",
              "    </tr>\n",
              "    <tr>\n",
              "      <th>1</th>\n",
              "      <td>-117.22</td>\n",
              "      <td>33.14</td>\n",
              "      <td>5.0</td>\n",
              "      <td>4576.0</td>\n",
              "      <td>848.0</td>\n",
              "      <td>2314.0</td>\n",
              "      <td>705.0</td>\n",
              "      <td>50123.0</td>\n",
              "      <td>3</td>\n",
              "      <td>210400.0</td>\n",
              "    </tr>\n",
              "    <tr>\n",
              "      <th>2</th>\n",
              "      <td>-117.21</td>\n",
              "      <td>33.14</td>\n",
              "      <td>12.0</td>\n",
              "      <td>4839.0</td>\n",
              "      <td>954.0</td>\n",
              "      <td>1708.0</td>\n",
              "      <td>952.0</td>\n",
              "      <td>28586.0</td>\n",
              "      <td>0</td>\n",
              "      <td>163300.0</td>\n",
              "    </tr>\n",
              "    <tr>\n",
              "      <th>3</th>\n",
              "      <td>-117.21</td>\n",
              "      <td>33.13</td>\n",
              "      <td>15.0</td>\n",
              "      <td>1889.0</td>\n",
              "      <td>368.0</td>\n",
              "      <td>754.0</td>\n",
              "      <td>409.0</td>\n",
              "      <td>22278.0</td>\n",
              "      <td>3</td>\n",
              "      <td>132800.0</td>\n",
              "    </tr>\n",
              "    <tr>\n",
              "      <th>4</th>\n",
              "      <td>-117.17</td>\n",
              "      <td>33.18</td>\n",
              "      <td>25.0</td>\n",
              "      <td>596.0</td>\n",
              "      <td>115.0</td>\n",
              "      <td>426.0</td>\n",
              "      <td>137.0</td>\n",
              "      <td>30221.0</td>\n",
              "      <td>0</td>\n",
              "      <td>214300.0</td>\n",
              "    </tr>\n",
              "  </tbody>\n",
              "</table>\n",
              "</div>\n",
              "      <button class=\"colab-df-convert\" onclick=\"convertToInteractive('df-dbf4e07a-a56f-4dc3-99c2-b376451ce956')\"\n",
              "              title=\"Convert this dataframe to an interactive table.\"\n",
              "              style=\"display:none;\">\n",
              "        \n",
              "  <svg xmlns=\"http://www.w3.org/2000/svg\" height=\"24px\"viewBox=\"0 0 24 24\"\n",
              "       width=\"24px\">\n",
              "    <path d=\"M0 0h24v24H0V0z\" fill=\"none\"/>\n",
              "    <path d=\"M18.56 5.44l.94 2.06.94-2.06 2.06-.94-2.06-.94-.94-2.06-.94 2.06-2.06.94zm-11 1L8.5 8.5l.94-2.06 2.06-.94-2.06-.94L8.5 2.5l-.94 2.06-2.06.94zm10 10l.94 2.06.94-2.06 2.06-.94-2.06-.94-.94-2.06-.94 2.06-2.06.94z\"/><path d=\"M17.41 7.96l-1.37-1.37c-.4-.4-.92-.59-1.43-.59-.52 0-1.04.2-1.43.59L10.3 9.45l-7.72 7.72c-.78.78-.78 2.05 0 2.83L4 21.41c.39.39.9.59 1.41.59.51 0 1.02-.2 1.41-.59l7.78-7.78 2.81-2.81c.8-.78.8-2.07 0-2.86zM5.41 20L4 18.59l7.72-7.72 1.47 1.35L5.41 20z\"/>\n",
              "  </svg>\n",
              "      </button>\n",
              "      \n",
              "  <style>\n",
              "    .colab-df-container {\n",
              "      display:flex;\n",
              "      flex-wrap:wrap;\n",
              "      gap: 12px;\n",
              "    }\n",
              "\n",
              "    .colab-df-convert {\n",
              "      background-color: #E8F0FE;\n",
              "      border: none;\n",
              "      border-radius: 50%;\n",
              "      cursor: pointer;\n",
              "      display: none;\n",
              "      fill: #1967D2;\n",
              "      height: 32px;\n",
              "      padding: 0 0 0 0;\n",
              "      width: 32px;\n",
              "    }\n",
              "\n",
              "    .colab-df-convert:hover {\n",
              "      background-color: #E2EBFA;\n",
              "      box-shadow: 0px 1px 2px rgba(60, 64, 67, 0.3), 0px 1px 3px 1px rgba(60, 64, 67, 0.15);\n",
              "      fill: #174EA6;\n",
              "    }\n",
              "\n",
              "    [theme=dark] .colab-df-convert {\n",
              "      background-color: #3B4455;\n",
              "      fill: #D2E3FC;\n",
              "    }\n",
              "\n",
              "    [theme=dark] .colab-df-convert:hover {\n",
              "      background-color: #434B5C;\n",
              "      box-shadow: 0px 1px 3px 1px rgba(0, 0, 0, 0.15);\n",
              "      filter: drop-shadow(0px 1px 2px rgba(0, 0, 0, 0.3));\n",
              "      fill: #FFFFFF;\n",
              "    }\n",
              "  </style>\n",
              "\n",
              "      <script>\n",
              "        const buttonEl =\n",
              "          document.querySelector('#df-dbf4e07a-a56f-4dc3-99c2-b376451ce956 button.colab-df-convert');\n",
              "        buttonEl.style.display =\n",
              "          google.colab.kernel.accessAllowed ? 'block' : 'none';\n",
              "\n",
              "        async function convertToInteractive(key) {\n",
              "          const element = document.querySelector('#df-dbf4e07a-a56f-4dc3-99c2-b376451ce956');\n",
              "          const dataTable =\n",
              "            await google.colab.kernel.invokeFunction('convertToInteractive',\n",
              "                                                     [key], {});\n",
              "          if (!dataTable) return;\n",
              "\n",
              "          const docLinkHtml = 'Like what you see? Visit the ' +\n",
              "            '<a target=\"_blank\" href=https://colab.research.google.com/notebooks/data_table.ipynb>data table notebook</a>'\n",
              "            + ' to learn more about interactive tables.';\n",
              "          element.innerHTML = '';\n",
              "          dataTable['output_type'] = 'display_data';\n",
              "          await google.colab.output.renderOutput(dataTable, element);\n",
              "          const docLink = document.createElement('div');\n",
              "          docLink.innerHTML = docLinkHtml;\n",
              "          element.appendChild(docLink);\n",
              "        }\n",
              "      </script>\n",
              "    </div>\n",
              "  </div>\n",
              "  "
            ]
          },
          "metadata": {},
          "execution_count": 21
        }
      ]
    },
    {
      "cell_type": "code",
      "source": [
        "data_test = df_test[feature_names].values\n",
        "labels_test = df_test[label_name].values\n",
        "\n",
        "print(data_test.shape)\n",
        "print(labels_test.shape)"
      ],
      "metadata": {
        "colab": {
          "base_uri": "https://localhost:8080/"
        },
        "id": "Ibaf7HMSnrX6",
        "outputId": "ce15f4ed-1fda-4383-fe02-75cd053f17e4"
      },
      "execution_count": 22,
      "outputs": [
        {
          "output_type": "stream",
          "name": "stdout",
          "text": [
            "(5110, 9)\n",
            "(5110, 1)\n"
          ]
        }
      ]
    },
    {
      "cell_type": "code",
      "source": [
        "from sklearn.preprocessing import MinMaxScaler\n",
        "\n",
        "#Data Normalization\n",
        "scaler = MinMaxScaler(feature_range=(0,1))\n",
        "X_test = scaler.fit_transform(data_test)\n",
        "y_test = scaler.fit_transform(labels_test)\n",
        "\n",
        "print('before scaling:\\n',label[0:5])\n",
        "print('after scaling:\\n',y[0:5])"
      ],
      "metadata": {
        "id": "Q3iRrez5nt9n",
        "colab": {
          "base_uri": "https://localhost:8080/"
        },
        "outputId": "d7fab645-49a6-4509-f6b8-f44d6adde197"
      },
      "execution_count": 23,
      "outputs": [
        {
          "output_type": "stream",
          "name": "stdout",
          "text": [
            "before scaling:\n",
            " [[452600.]\n",
            " [358500.]\n",
            " [352100.]\n",
            " [341300.]\n",
            " [342200.]]\n",
            "after scaling:\n",
            " [[0.90226638]\n",
            " [0.70824656]\n",
            " [0.69505074]\n",
            " [0.67278279]\n",
            " [0.67463846]]\n"
          ]
        }
      ]
    },
    {
      "cell_type": "markdown",
      "source": [
        "Here will be used `model_2` as we mentioned previously"
      ],
      "metadata": {
        "id": "hygsWLZWqWJu"
      }
    },
    {
      "cell_type": "code",
      "source": [
        "# Generating Predictions on testing data\n",
        "X_test_A, X_test_B = X_test[:, :5], X_test[:, 2:]\n",
        "\n",
        "Predictions=model_2.predict((X_test_A, X_test_B))\n",
        "mse_ann_test = model_2.evaluate((X_test_A, X_test_B), y_test)\n",
        "print('ANN MSE:', mse_ann_test)"
      ],
      "metadata": {
        "colab": {
          "base_uri": "https://localhost:8080/"
        },
        "id": "uzVYJguPnwU4",
        "outputId": "1989667a-d925-4659-f641-bf43f4be591b"
      },
      "execution_count": 24,
      "outputs": [
        {
          "output_type": "stream",
          "name": "stdout",
          "text": [
            "160/160 [==============================] - 0s 1ms/step - loss: 0.0601\n",
            "ANN MSE: 0.060100242495536804\n"
          ]
        }
      ]
    },
    {
      "cell_type": "markdown",
      "source": [
        "If you are not satisfied with the performance of your model, you should go back and tune the hyperparameters. The first one to try is change another `optimizer`. If the performance is still not great, then try tuning model hyperparameters such as the number of layers, the number of neurons per layer, and the types of activation functions to use for each hidden layer. You can also try tuning other hyperparameters, such as the batch size (it can be set in the fit() method using the `batch_size argument`, which defaults to 32).\n",
        "\n",
        "If you satisfied with the model, you should rescale the labels and the predicted value into its original form. So, you can see better visualization."
      ],
      "metadata": {
        "id": "w7tiyvggqi0Q"
      }
    },
    {
      "cell_type": "code",
      "source": [
        "# Scaling the predicted and actual value Price data back to original price scale\n",
        "ann_predictions = scaler.inverse_transform(Predictions)\n",
        "y_test_orig = scaler.inverse_transform(y_test)\n",
        "\n",
        "TestingData = pd.DataFrame(data=data_test, columns=feature_names)"
      ],
      "metadata": {
        "id": "fgenJohhoNo_"
      },
      "execution_count": 25,
      "outputs": []
    },
    {
      "cell_type": "code",
      "source": [
        "TestingData['median_house_income'] = y_test_orig\n",
        "TestingData['ann_predictions'] = ann_predictions\n",
        "TestingData.head()"
      ],
      "metadata": {
        "colab": {
          "base_uri": "https://localhost:8080/",
          "height": 270
        },
        "id": "enF9NMZJoQiq",
        "outputId": "0651448d-7211-4ebe-9ada-c594eb721f17"
      },
      "execution_count": 26,
      "outputs": [
        {
          "output_type": "execute_result",
          "data": {
            "text/plain": [
              "   longitude  latitude  housing_median_age  total_rooms  total_bedrooms  \\\n",
              "0    -117.20     33.14                19.0       2025.0           414.0   \n",
              "1    -117.22     33.14                 5.0       4576.0           848.0   \n",
              "2    -117.21     33.14                12.0       4839.0           954.0   \n",
              "3    -117.21     33.13                15.0       1889.0           368.0   \n",
              "4    -117.17     33.18                25.0        596.0           115.0   \n",
              "\n",
              "   population  households  median_income  ocean_proximity  \\\n",
              "0      1663.0       403.0        38147.0              0.0   \n",
              "1      2314.0       705.0        50123.0              3.0   \n",
              "2      1708.0       952.0        28586.0              0.0   \n",
              "3       754.0       409.0        22278.0              3.0   \n",
              "4       426.0       137.0        30221.0              0.0   \n",
              "\n",
              "   median_house_income  ann_predictions  \n",
              "0             139200.0    139546.171875  \n",
              "1             210400.0    150019.015625  \n",
              "2             163300.0    188899.859375  \n",
              "3             132800.0    144819.062500  \n",
              "4             214300.0    147321.218750  "
            ],
            "text/html": [
              "\n",
              "  <div id=\"df-8fd92836-ca7d-42d4-bab7-2921119b26eb\">\n",
              "    <div class=\"colab-df-container\">\n",
              "      <div>\n",
              "<style scoped>\n",
              "    .dataframe tbody tr th:only-of-type {\n",
              "        vertical-align: middle;\n",
              "    }\n",
              "\n",
              "    .dataframe tbody tr th {\n",
              "        vertical-align: top;\n",
              "    }\n",
              "\n",
              "    .dataframe thead th {\n",
              "        text-align: right;\n",
              "    }\n",
              "</style>\n",
              "<table border=\"1\" class=\"dataframe\">\n",
              "  <thead>\n",
              "    <tr style=\"text-align: right;\">\n",
              "      <th></th>\n",
              "      <th>longitude</th>\n",
              "      <th>latitude</th>\n",
              "      <th>housing_median_age</th>\n",
              "      <th>total_rooms</th>\n",
              "      <th>total_bedrooms</th>\n",
              "      <th>population</th>\n",
              "      <th>households</th>\n",
              "      <th>median_income</th>\n",
              "      <th>ocean_proximity</th>\n",
              "      <th>median_house_income</th>\n",
              "      <th>ann_predictions</th>\n",
              "    </tr>\n",
              "  </thead>\n",
              "  <tbody>\n",
              "    <tr>\n",
              "      <th>0</th>\n",
              "      <td>-117.20</td>\n",
              "      <td>33.14</td>\n",
              "      <td>19.0</td>\n",
              "      <td>2025.0</td>\n",
              "      <td>414.0</td>\n",
              "      <td>1663.0</td>\n",
              "      <td>403.0</td>\n",
              "      <td>38147.0</td>\n",
              "      <td>0.0</td>\n",
              "      <td>139200.0</td>\n",
              "      <td>139546.171875</td>\n",
              "    </tr>\n",
              "    <tr>\n",
              "      <th>1</th>\n",
              "      <td>-117.22</td>\n",
              "      <td>33.14</td>\n",
              "      <td>5.0</td>\n",
              "      <td>4576.0</td>\n",
              "      <td>848.0</td>\n",
              "      <td>2314.0</td>\n",
              "      <td>705.0</td>\n",
              "      <td>50123.0</td>\n",
              "      <td>3.0</td>\n",
              "      <td>210400.0</td>\n",
              "      <td>150019.015625</td>\n",
              "    </tr>\n",
              "    <tr>\n",
              "      <th>2</th>\n",
              "      <td>-117.21</td>\n",
              "      <td>33.14</td>\n",
              "      <td>12.0</td>\n",
              "      <td>4839.0</td>\n",
              "      <td>954.0</td>\n",
              "      <td>1708.0</td>\n",
              "      <td>952.0</td>\n",
              "      <td>28586.0</td>\n",
              "      <td>0.0</td>\n",
              "      <td>163300.0</td>\n",
              "      <td>188899.859375</td>\n",
              "    </tr>\n",
              "    <tr>\n",
              "      <th>3</th>\n",
              "      <td>-117.21</td>\n",
              "      <td>33.13</td>\n",
              "      <td>15.0</td>\n",
              "      <td>1889.0</td>\n",
              "      <td>368.0</td>\n",
              "      <td>754.0</td>\n",
              "      <td>409.0</td>\n",
              "      <td>22278.0</td>\n",
              "      <td>3.0</td>\n",
              "      <td>132800.0</td>\n",
              "      <td>144819.062500</td>\n",
              "    </tr>\n",
              "    <tr>\n",
              "      <th>4</th>\n",
              "      <td>-117.17</td>\n",
              "      <td>33.18</td>\n",
              "      <td>25.0</td>\n",
              "      <td>596.0</td>\n",
              "      <td>115.0</td>\n",
              "      <td>426.0</td>\n",
              "      <td>137.0</td>\n",
              "      <td>30221.0</td>\n",
              "      <td>0.0</td>\n",
              "      <td>214300.0</td>\n",
              "      <td>147321.218750</td>\n",
              "    </tr>\n",
              "  </tbody>\n",
              "</table>\n",
              "</div>\n",
              "      <button class=\"colab-df-convert\" onclick=\"convertToInteractive('df-8fd92836-ca7d-42d4-bab7-2921119b26eb')\"\n",
              "              title=\"Convert this dataframe to an interactive table.\"\n",
              "              style=\"display:none;\">\n",
              "        \n",
              "  <svg xmlns=\"http://www.w3.org/2000/svg\" height=\"24px\"viewBox=\"0 0 24 24\"\n",
              "       width=\"24px\">\n",
              "    <path d=\"M0 0h24v24H0V0z\" fill=\"none\"/>\n",
              "    <path d=\"M18.56 5.44l.94 2.06.94-2.06 2.06-.94-2.06-.94-.94-2.06-.94 2.06-2.06.94zm-11 1L8.5 8.5l.94-2.06 2.06-.94-2.06-.94L8.5 2.5l-.94 2.06-2.06.94zm10 10l.94 2.06.94-2.06 2.06-.94-2.06-.94-.94-2.06-.94 2.06-2.06.94z\"/><path d=\"M17.41 7.96l-1.37-1.37c-.4-.4-.92-.59-1.43-.59-.52 0-1.04.2-1.43.59L10.3 9.45l-7.72 7.72c-.78.78-.78 2.05 0 2.83L4 21.41c.39.39.9.59 1.41.59.51 0 1.02-.2 1.41-.59l7.78-7.78 2.81-2.81c.8-.78.8-2.07 0-2.86zM5.41 20L4 18.59l7.72-7.72 1.47 1.35L5.41 20z\"/>\n",
              "  </svg>\n",
              "      </button>\n",
              "      \n",
              "  <style>\n",
              "    .colab-df-container {\n",
              "      display:flex;\n",
              "      flex-wrap:wrap;\n",
              "      gap: 12px;\n",
              "    }\n",
              "\n",
              "    .colab-df-convert {\n",
              "      background-color: #E8F0FE;\n",
              "      border: none;\n",
              "      border-radius: 50%;\n",
              "      cursor: pointer;\n",
              "      display: none;\n",
              "      fill: #1967D2;\n",
              "      height: 32px;\n",
              "      padding: 0 0 0 0;\n",
              "      width: 32px;\n",
              "    }\n",
              "\n",
              "    .colab-df-convert:hover {\n",
              "      background-color: #E2EBFA;\n",
              "      box-shadow: 0px 1px 2px rgba(60, 64, 67, 0.3), 0px 1px 3px 1px rgba(60, 64, 67, 0.15);\n",
              "      fill: #174EA6;\n",
              "    }\n",
              "\n",
              "    [theme=dark] .colab-df-convert {\n",
              "      background-color: #3B4455;\n",
              "      fill: #D2E3FC;\n",
              "    }\n",
              "\n",
              "    [theme=dark] .colab-df-convert:hover {\n",
              "      background-color: #434B5C;\n",
              "      box-shadow: 0px 1px 3px 1px rgba(0, 0, 0, 0.15);\n",
              "      filter: drop-shadow(0px 1px 2px rgba(0, 0, 0, 0.3));\n",
              "      fill: #FFFFFF;\n",
              "    }\n",
              "  </style>\n",
              "\n",
              "      <script>\n",
              "        const buttonEl =\n",
              "          document.querySelector('#df-8fd92836-ca7d-42d4-bab7-2921119b26eb button.colab-df-convert');\n",
              "        buttonEl.style.display =\n",
              "          google.colab.kernel.accessAllowed ? 'block' : 'none';\n",
              "\n",
              "        async function convertToInteractive(key) {\n",
              "          const element = document.querySelector('#df-8fd92836-ca7d-42d4-bab7-2921119b26eb');\n",
              "          const dataTable =\n",
              "            await google.colab.kernel.invokeFunction('convertToInteractive',\n",
              "                                                     [key], {});\n",
              "          if (!dataTable) return;\n",
              "\n",
              "          const docLinkHtml = 'Like what you see? Visit the ' +\n",
              "            '<a target=\"_blank\" href=https://colab.research.google.com/notebooks/data_table.ipynb>data table notebook</a>'\n",
              "            + ' to learn more about interactive tables.';\n",
              "          element.innerHTML = '';\n",
              "          dataTable['output_type'] = 'display_data';\n",
              "          await google.colab.output.renderOutput(dataTable, element);\n",
              "          const docLink = document.createElement('div');\n",
              "          docLink.innerHTML = docLinkHtml;\n",
              "          element.appendChild(docLink);\n",
              "        }\n",
              "      </script>\n",
              "    </div>\n",
              "  </div>\n",
              "  "
            ]
          },
          "metadata": {},
          "execution_count": 26
        }
      ]
    },
    {
      "cell_type": "markdown",
      "source": [
        "We can also visualize the absolute percentage error (APE) from both predicted and actual value usng code below, then visualize it"
      ],
      "metadata": {
        "id": "EoHrfIFkqvKH"
      }
    },
    {
      "cell_type": "code",
      "source": [
        "import numpy as np\n",
        "\n",
        "ann_APE = 100*(abs(TestingData['median_house_income']-TestingData['ann_predictions'])/TestingData['median_house_income'])\n",
        "TestingData['ann_APE'] = ann_APE\n",
        "\n",
        "print('The Accuracy of ANN model is: {0:.3f}'.format(100-np.mean(ann_APE)))\n",
        "TestingData.head()"
      ],
      "metadata": {
        "colab": {
          "base_uri": "https://localhost:8080/",
          "height": 288
        },
        "id": "S14vcpbtoTnt",
        "outputId": "f20e2d3e-ba7f-4b83-be5e-9d08f4be9d31"
      },
      "execution_count": 27,
      "outputs": [
        {
          "output_type": "stream",
          "name": "stdout",
          "text": [
            "The Accuracy of ANN model is: 61.924\n"
          ]
        },
        {
          "output_type": "execute_result",
          "data": {
            "text/plain": [
              "   longitude  latitude  housing_median_age  total_rooms  total_bedrooms  \\\n",
              "0    -117.20     33.14                19.0       2025.0           414.0   \n",
              "1    -117.22     33.14                 5.0       4576.0           848.0   \n",
              "2    -117.21     33.14                12.0       4839.0           954.0   \n",
              "3    -117.21     33.13                15.0       1889.0           368.0   \n",
              "4    -117.17     33.18                25.0        596.0           115.0   \n",
              "\n",
              "   population  households  median_income  ocean_proximity  \\\n",
              "0      1663.0       403.0        38147.0              0.0   \n",
              "1      2314.0       705.0        50123.0              3.0   \n",
              "2      1708.0       952.0        28586.0              0.0   \n",
              "3       754.0       409.0        22278.0              3.0   \n",
              "4       426.0       137.0        30221.0              0.0   \n",
              "\n",
              "   median_house_income  ann_predictions    ann_APE  \n",
              "0             139200.0    139546.171875   0.248687  \n",
              "1             210400.0    150019.015625  28.698186  \n",
              "2             163300.0    188899.859375  15.676583  \n",
              "3             132800.0    144819.062500   9.050499  \n",
              "4             214300.0    147321.218750  31.254681  "
            ],
            "text/html": [
              "\n",
              "  <div id=\"df-ab72819c-880f-4e3e-8142-f7bb7ef85f0c\">\n",
              "    <div class=\"colab-df-container\">\n",
              "      <div>\n",
              "<style scoped>\n",
              "    .dataframe tbody tr th:only-of-type {\n",
              "        vertical-align: middle;\n",
              "    }\n",
              "\n",
              "    .dataframe tbody tr th {\n",
              "        vertical-align: top;\n",
              "    }\n",
              "\n",
              "    .dataframe thead th {\n",
              "        text-align: right;\n",
              "    }\n",
              "</style>\n",
              "<table border=\"1\" class=\"dataframe\">\n",
              "  <thead>\n",
              "    <tr style=\"text-align: right;\">\n",
              "      <th></th>\n",
              "      <th>longitude</th>\n",
              "      <th>latitude</th>\n",
              "      <th>housing_median_age</th>\n",
              "      <th>total_rooms</th>\n",
              "      <th>total_bedrooms</th>\n",
              "      <th>population</th>\n",
              "      <th>households</th>\n",
              "      <th>median_income</th>\n",
              "      <th>ocean_proximity</th>\n",
              "      <th>median_house_income</th>\n",
              "      <th>ann_predictions</th>\n",
              "      <th>ann_APE</th>\n",
              "    </tr>\n",
              "  </thead>\n",
              "  <tbody>\n",
              "    <tr>\n",
              "      <th>0</th>\n",
              "      <td>-117.20</td>\n",
              "      <td>33.14</td>\n",
              "      <td>19.0</td>\n",
              "      <td>2025.0</td>\n",
              "      <td>414.0</td>\n",
              "      <td>1663.0</td>\n",
              "      <td>403.0</td>\n",
              "      <td>38147.0</td>\n",
              "      <td>0.0</td>\n",
              "      <td>139200.0</td>\n",
              "      <td>139546.171875</td>\n",
              "      <td>0.248687</td>\n",
              "    </tr>\n",
              "    <tr>\n",
              "      <th>1</th>\n",
              "      <td>-117.22</td>\n",
              "      <td>33.14</td>\n",
              "      <td>5.0</td>\n",
              "      <td>4576.0</td>\n",
              "      <td>848.0</td>\n",
              "      <td>2314.0</td>\n",
              "      <td>705.0</td>\n",
              "      <td>50123.0</td>\n",
              "      <td>3.0</td>\n",
              "      <td>210400.0</td>\n",
              "      <td>150019.015625</td>\n",
              "      <td>28.698186</td>\n",
              "    </tr>\n",
              "    <tr>\n",
              "      <th>2</th>\n",
              "      <td>-117.21</td>\n",
              "      <td>33.14</td>\n",
              "      <td>12.0</td>\n",
              "      <td>4839.0</td>\n",
              "      <td>954.0</td>\n",
              "      <td>1708.0</td>\n",
              "      <td>952.0</td>\n",
              "      <td>28586.0</td>\n",
              "      <td>0.0</td>\n",
              "      <td>163300.0</td>\n",
              "      <td>188899.859375</td>\n",
              "      <td>15.676583</td>\n",
              "    </tr>\n",
              "    <tr>\n",
              "      <th>3</th>\n",
              "      <td>-117.21</td>\n",
              "      <td>33.13</td>\n",
              "      <td>15.0</td>\n",
              "      <td>1889.0</td>\n",
              "      <td>368.0</td>\n",
              "      <td>754.0</td>\n",
              "      <td>409.0</td>\n",
              "      <td>22278.0</td>\n",
              "      <td>3.0</td>\n",
              "      <td>132800.0</td>\n",
              "      <td>144819.062500</td>\n",
              "      <td>9.050499</td>\n",
              "    </tr>\n",
              "    <tr>\n",
              "      <th>4</th>\n",
              "      <td>-117.17</td>\n",
              "      <td>33.18</td>\n",
              "      <td>25.0</td>\n",
              "      <td>596.0</td>\n",
              "      <td>115.0</td>\n",
              "      <td>426.0</td>\n",
              "      <td>137.0</td>\n",
              "      <td>30221.0</td>\n",
              "      <td>0.0</td>\n",
              "      <td>214300.0</td>\n",
              "      <td>147321.218750</td>\n",
              "      <td>31.254681</td>\n",
              "    </tr>\n",
              "  </tbody>\n",
              "</table>\n",
              "</div>\n",
              "      <button class=\"colab-df-convert\" onclick=\"convertToInteractive('df-ab72819c-880f-4e3e-8142-f7bb7ef85f0c')\"\n",
              "              title=\"Convert this dataframe to an interactive table.\"\n",
              "              style=\"display:none;\">\n",
              "        \n",
              "  <svg xmlns=\"http://www.w3.org/2000/svg\" height=\"24px\"viewBox=\"0 0 24 24\"\n",
              "       width=\"24px\">\n",
              "    <path d=\"M0 0h24v24H0V0z\" fill=\"none\"/>\n",
              "    <path d=\"M18.56 5.44l.94 2.06.94-2.06 2.06-.94-2.06-.94-.94-2.06-.94 2.06-2.06.94zm-11 1L8.5 8.5l.94-2.06 2.06-.94-2.06-.94L8.5 2.5l-.94 2.06-2.06.94zm10 10l.94 2.06.94-2.06 2.06-.94-2.06-.94-.94-2.06-.94 2.06-2.06.94z\"/><path d=\"M17.41 7.96l-1.37-1.37c-.4-.4-.92-.59-1.43-.59-.52 0-1.04.2-1.43.59L10.3 9.45l-7.72 7.72c-.78.78-.78 2.05 0 2.83L4 21.41c.39.39.9.59 1.41.59.51 0 1.02-.2 1.41-.59l7.78-7.78 2.81-2.81c.8-.78.8-2.07 0-2.86zM5.41 20L4 18.59l7.72-7.72 1.47 1.35L5.41 20z\"/>\n",
              "  </svg>\n",
              "      </button>\n",
              "      \n",
              "  <style>\n",
              "    .colab-df-container {\n",
              "      display:flex;\n",
              "      flex-wrap:wrap;\n",
              "      gap: 12px;\n",
              "    }\n",
              "\n",
              "    .colab-df-convert {\n",
              "      background-color: #E8F0FE;\n",
              "      border: none;\n",
              "      border-radius: 50%;\n",
              "      cursor: pointer;\n",
              "      display: none;\n",
              "      fill: #1967D2;\n",
              "      height: 32px;\n",
              "      padding: 0 0 0 0;\n",
              "      width: 32px;\n",
              "    }\n",
              "\n",
              "    .colab-df-convert:hover {\n",
              "      background-color: #E2EBFA;\n",
              "      box-shadow: 0px 1px 2px rgba(60, 64, 67, 0.3), 0px 1px 3px 1px rgba(60, 64, 67, 0.15);\n",
              "      fill: #174EA6;\n",
              "    }\n",
              "\n",
              "    [theme=dark] .colab-df-convert {\n",
              "      background-color: #3B4455;\n",
              "      fill: #D2E3FC;\n",
              "    }\n",
              "\n",
              "    [theme=dark] .colab-df-convert:hover {\n",
              "      background-color: #434B5C;\n",
              "      box-shadow: 0px 1px 3px 1px rgba(0, 0, 0, 0.15);\n",
              "      filter: drop-shadow(0px 1px 2px rgba(0, 0, 0, 0.3));\n",
              "      fill: #FFFFFF;\n",
              "    }\n",
              "  </style>\n",
              "\n",
              "      <script>\n",
              "        const buttonEl =\n",
              "          document.querySelector('#df-ab72819c-880f-4e3e-8142-f7bb7ef85f0c button.colab-df-convert');\n",
              "        buttonEl.style.display =\n",
              "          google.colab.kernel.accessAllowed ? 'block' : 'none';\n",
              "\n",
              "        async function convertToInteractive(key) {\n",
              "          const element = document.querySelector('#df-ab72819c-880f-4e3e-8142-f7bb7ef85f0c');\n",
              "          const dataTable =\n",
              "            await google.colab.kernel.invokeFunction('convertToInteractive',\n",
              "                                                     [key], {});\n",
              "          if (!dataTable) return;\n",
              "\n",
              "          const docLinkHtml = 'Like what you see? Visit the ' +\n",
              "            '<a target=\"_blank\" href=https://colab.research.google.com/notebooks/data_table.ipynb>data table notebook</a>'\n",
              "            + ' to learn more about interactive tables.';\n",
              "          element.innerHTML = '';\n",
              "          dataTable['output_type'] = 'display_data';\n",
              "          await google.colab.output.renderOutput(dataTable, element);\n",
              "          const docLink = document.createElement('div');\n",
              "          docLink.innerHTML = docLinkHtml;\n",
              "          element.appendChild(docLink);\n",
              "        }\n",
              "      </script>\n",
              "    </div>\n",
              "  </div>\n",
              "  "
            ]
          },
          "metadata": {},
          "execution_count": 27
        }
      ]
    },
    {
      "cell_type": "code",
      "source": [
        "import matplotlib.pyplot as plt\n",
        "\n",
        "plt.figure(figsize=(15, 6))\n",
        "plt.plot(TestingData['median_house_income'], lw =2, ls = '-', label = 'Actual data')\n",
        "plt.plot(TestingData['ann_predictions'], lw =3, ls = '--', label = 'ANN Prediction')\n",
        "plt.xlabel('Total House', fontsize=15)\n",
        "plt.ylabel('Price', fontsize=15)\n",
        "plt.title('Top 200 Actual vs Predicted House value')\n",
        "plt.legend()"
      ],
      "metadata": {
        "colab": {
          "base_uri": "https://localhost:8080/",
          "height": 426
        },
        "id": "RK2swOwloW63",
        "outputId": "d6a55c9f-f8bc-4816-854e-469b12898e98"
      },
      "execution_count": 28,
      "outputs": [
        {
          "output_type": "execute_result",
          "data": {
            "text/plain": [
              "<matplotlib.legend.Legend at 0x7f9efa2ba050>"
            ]
          },
          "metadata": {},
          "execution_count": 28
        },
        {
          "output_type": "display_data",
          "data": {
            "text/plain": [
              "<Figure size 1080x432 with 1 Axes>"
            ],
            "image/png": "[encoded data removed]"
          },
          "metadata": {
            "needs_background": "light"
          }
        }
      ]
    }
  ]
}