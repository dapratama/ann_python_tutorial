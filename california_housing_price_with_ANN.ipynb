{
  "nbformat": 4,
  "nbformat_minor": 0,
  "metadata": {
    "colab": {
      "provenance": [],
      "collapsed_sections": []
    },
    "kernelspec": {
      "name": "python3",
      "display_name": "Python 3"
    },
    "language_info": {
      "name": "python"
    }
  },
  "cells": [
    {
      "cell_type": "markdown",
      "source": [
        "# Building a Regression MLP Using the Sequential API\n",
        "\n",
        "Let’s switch to the California housing problem and tackle it using a regression neural network. California Housing Prices is a dataset based on data from the 1990 California census. This dataset includes features such as the population, median income, and median housing price for each district in California."
      ],
      "metadata": {
        "id": "nJkGKOeQoHWa"
      }
    },
    {
      "cell_type": "markdown",
      "source": [
        "### Using Pandas to load the dataset\n",
        "Let’s load the california housing dataset:"
      ],
      "metadata": {
        "id": "ZVwRfCuZqyij"
      }
    },
    {
      "cell_type": "code",
      "execution_count": 1,
      "metadata": {
        "colab": {
          "base_uri": "https://localhost:8080/",
          "height": 270
        },
        "id": "JbEBRhIhleiQ",
        "outputId": "c2846be0-ee53-4d32-bfc0-c64c3b5fcdaf"
      },
      "outputs": [
        {
          "output_type": "execute_result",
          "data": {
            "text/plain": [
              "   longitude  latitude  housing_median_age  total_rooms  total_bedrooms  \\\n",
              "0    -122.23     37.88                41.0        880.0           129.0   \n",
              "1    -122.22     37.86                21.0       7099.0          1106.0   \n",
              "2    -122.24     37.85                52.0       1467.0           190.0   \n",
              "3    -122.25     37.85                52.0       1274.0           235.0   \n",
              "4    -122.25     37.85                52.0       1627.0           280.0   \n",
              "\n",
              "   population  households  median_income ocean_proximity  median_house_value  \n",
              "0       322.0       126.0        83252.0        NEAR BAY            452600.0  \n",
              "1      2401.0      1138.0        83014.0        NEAR BAY            358500.0  \n",
              "2       496.0       177.0        72574.0        NEAR BAY            352100.0  \n",
              "3       558.0       219.0        56431.0        NEAR BAY            341300.0  \n",
              "4       565.0       259.0        38462.0        NEAR BAY            342200.0  "
            ],
            "text/html": [
              "\n",
              "  <div id=\"df-c27291f6-a978-4e6c-b430-37c8854a344a\">\n",
              "    <div class=\"colab-df-container\">\n",
              "      <div>\n",
              "<style scoped>\n",
              "    .dataframe tbody tr th:only-of-type {\n",
              "        vertical-align: middle;\n",
              "    }\n",
              "\n",
              "    .dataframe tbody tr th {\n",
              "        vertical-align: top;\n",
              "    }\n",
              "\n",
              "    .dataframe thead th {\n",
              "        text-align: right;\n",
              "    }\n",
              "</style>\n",
              "<table border=\"1\" class=\"dataframe\">\n",
              "  <thead>\n",
              "    <tr style=\"text-align: right;\">\n",
              "      <th></th>\n",
              "      <th>longitude</th>\n",
              "      <th>latitude</th>\n",
              "      <th>housing_median_age</th>\n",
              "      <th>total_rooms</th>\n",
              "      <th>total_bedrooms</th>\n",
              "      <th>population</th>\n",
              "      <th>households</th>\n",
              "      <th>median_income</th>\n",
              "      <th>ocean_proximity</th>\n",
              "      <th>median_house_value</th>\n",
              "    </tr>\n",
              "  </thead>\n",
              "  <tbody>\n",
              "    <tr>\n",
              "      <th>0</th>\n",
              "      <td>-122.23</td>\n",
              "      <td>37.88</td>\n",
              "      <td>41.0</td>\n",
              "      <td>880.0</td>\n",
              "      <td>129.0</td>\n",
              "      <td>322.0</td>\n",
              "      <td>126.0</td>\n",
              "      <td>83252.0</td>\n",
              "      <td>NEAR BAY</td>\n",
              "      <td>452600.0</td>\n",
              "    </tr>\n",
              "    <tr>\n",
              "      <th>1</th>\n",
              "      <td>-122.22</td>\n",
              "      <td>37.86</td>\n",
              "      <td>21.0</td>\n",
              "      <td>7099.0</td>\n",
              "      <td>1106.0</td>\n",
              "      <td>2401.0</td>\n",
              "      <td>1138.0</td>\n",
              "      <td>83014.0</td>\n",
              "      <td>NEAR BAY</td>\n",
              "      <td>358500.0</td>\n",
              "    </tr>\n",
              "    <tr>\n",
              "      <th>2</th>\n",
              "      <td>-122.24</td>\n",
              "      <td>37.85</td>\n",
              "      <td>52.0</td>\n",
              "      <td>1467.0</td>\n",
              "      <td>190.0</td>\n",
              "      <td>496.0</td>\n",
              "      <td>177.0</td>\n",
              "      <td>72574.0</td>\n",
              "      <td>NEAR BAY</td>\n",
              "      <td>352100.0</td>\n",
              "    </tr>\n",
              "    <tr>\n",
              "      <th>3</th>\n",
              "      <td>-122.25</td>\n",
              "      <td>37.85</td>\n",
              "      <td>52.0</td>\n",
              "      <td>1274.0</td>\n",
              "      <td>235.0</td>\n",
              "      <td>558.0</td>\n",
              "      <td>219.0</td>\n",
              "      <td>56431.0</td>\n",
              "      <td>NEAR BAY</td>\n",
              "      <td>341300.0</td>\n",
              "    </tr>\n",
              "    <tr>\n",
              "      <th>4</th>\n",
              "      <td>-122.25</td>\n",
              "      <td>37.85</td>\n",
              "      <td>52.0</td>\n",
              "      <td>1627.0</td>\n",
              "      <td>280.0</td>\n",
              "      <td>565.0</td>\n",
              "      <td>259.0</td>\n",
              "      <td>38462.0</td>\n",
              "      <td>NEAR BAY</td>\n",
              "      <td>342200.0</td>\n",
              "    </tr>\n",
              "  </tbody>\n",
              "</table>\n",
              "</div>\n",
              "      <button class=\"colab-df-convert\" onclick=\"convertToInteractive('df-c27291f6-a978-4e6c-b430-37c8854a344a')\"\n",
              "              title=\"Convert this dataframe to an interactive table.\"\n",
              "              style=\"display:none;\">\n",
              "        \n",
              "  <svg xmlns=\"http://www.w3.org/2000/svg\" height=\"24px\"viewBox=\"0 0 24 24\"\n",
              "       width=\"24px\">\n",
              "    <path d=\"M0 0h24v24H0V0z\" fill=\"none\"/>\n",
              "    <path d=\"M18.56 5.44l.94 2.06.94-2.06 2.06-.94-2.06-.94-.94-2.06-.94 2.06-2.06.94zm-11 1L8.5 8.5l.94-2.06 2.06-.94-2.06-.94L8.5 2.5l-.94 2.06-2.06.94zm10 10l.94 2.06.94-2.06 2.06-.94-2.06-.94-.94-2.06-.94 2.06-2.06.94z\"/><path d=\"M17.41 7.96l-1.37-1.37c-.4-.4-.92-.59-1.43-.59-.52 0-1.04.2-1.43.59L10.3 9.45l-7.72 7.72c-.78.78-.78 2.05 0 2.83L4 21.41c.39.39.9.59 1.41.59.51 0 1.02-.2 1.41-.59l7.78-7.78 2.81-2.81c.8-.78.8-2.07 0-2.86zM5.41 20L4 18.59l7.72-7.72 1.47 1.35L5.41 20z\"/>\n",
              "  </svg>\n",
              "      </button>\n",
              "      \n",
              "  <style>\n",
              "    .colab-df-container {\n",
              "      display:flex;\n",
              "      flex-wrap:wrap;\n",
              "      gap: 12px;\n",
              "    }\n",
              "\n",
              "    .colab-df-convert {\n",
              "      background-color: #E8F0FE;\n",
              "      border: none;\n",
              "      border-radius: 50%;\n",
              "      cursor: pointer;\n",
              "      display: none;\n",
              "      fill: #1967D2;\n",
              "      height: 32px;\n",
              "      padding: 0 0 0 0;\n",
              "      width: 32px;\n",
              "    }\n",
              "\n",
              "    .colab-df-convert:hover {\n",
              "      background-color: #E2EBFA;\n",
              "      box-shadow: 0px 1px 2px rgba(60, 64, 67, 0.3), 0px 1px 3px 1px rgba(60, 64, 67, 0.15);\n",
              "      fill: #174EA6;\n",
              "    }\n",
              "\n",
              "    [theme=dark] .colab-df-convert {\n",
              "      background-color: #3B4455;\n",
              "      fill: #D2E3FC;\n",
              "    }\n",
              "\n",
              "    [theme=dark] .colab-df-convert:hover {\n",
              "      background-color: #434B5C;\n",
              "      box-shadow: 0px 1px 3px 1px rgba(0, 0, 0, 0.15);\n",
              "      filter: drop-shadow(0px 1px 2px rgba(0, 0, 0, 0.3));\n",
              "      fill: #FFFFFF;\n",
              "    }\n",
              "  </style>\n",
              "\n",
              "      <script>\n",
              "        const buttonEl =\n",
              "          document.querySelector('#df-c27291f6-a978-4e6c-b430-37c8854a344a button.colab-df-convert');\n",
              "        buttonEl.style.display =\n",
              "          google.colab.kernel.accessAllowed ? 'block' : 'none';\n",
              "\n",
              "        async function convertToInteractive(key) {\n",
              "          const element = document.querySelector('#df-c27291f6-a978-4e6c-b430-37c8854a344a');\n",
              "          const dataTable =\n",
              "            await google.colab.kernel.invokeFunction('convertToInteractive',\n",
              "                                                     [key], {});\n",
              "          if (!dataTable) return;\n",
              "\n",
              "          const docLinkHtml = 'Like what you see? Visit the ' +\n",
              "            '<a target=\"_blank\" href=https://colab.research.google.com/notebooks/data_table.ipynb>data table notebook</a>'\n",
              "            + ' to learn more about interactive tables.';\n",
              "          element.innerHTML = '';\n",
              "          dataTable['output_type'] = 'display_data';\n",
              "          await google.colab.output.renderOutput(dataTable, element);\n",
              "          const docLink = document.createElement('div');\n",
              "          docLink.innerHTML = docLinkHtml;\n",
              "          element.appendChild(docLink);\n",
              "        }\n",
              "      </script>\n",
              "    </div>\n",
              "  </div>\n",
              "  "
            ]
          },
          "metadata": {},
          "execution_count": 1
        }
      ],
      "source": [
        "import pandas as pd\n",
        "\n",
        "df_housing = pd.read_excel('/content/sample_data/housing_price_train.xlsx')\n",
        "\n",
        "df_housing.head()"
      ]
    },
    {
      "cell_type": "markdown",
      "source": [
        "Let’s take a look at the shape and data type of the data:"
      ],
      "metadata": {
        "id": "fY0NaHDpqx5e"
      }
    },
    {
      "cell_type": "code",
      "source": [
        "print('Training data shape:', df_housing.shape)\n",
        "print('Training data type :', df_housing.dtypes)"
      ],
      "metadata": {
        "colab": {
          "base_uri": "https://localhost:8080/"
        },
        "id": "AKKL8vzGrI1G",
        "outputId": "7553df44-9f2c-4576-ed7e-e0526d396c58"
      },
      "execution_count": 2,
      "outputs": [
        {
          "output_type": "stream",
          "name": "stdout",
          "text": [
            "Training data shape: (15323, 10)\n",
            "Training data type : longitude             float64\n",
            "latitude              float64\n",
            "housing_median_age    float64\n",
            "total_rooms           float64\n",
            "total_bedrooms        float64\n",
            "population            float64\n",
            "households            float64\n",
            "median_income         float64\n",
            "ocean_proximity        object\n",
            "median_house_value    float64\n",
            "dtype: object\n"
          ]
        }
      ]
    },
    {
      "cell_type": "markdown",
      "source": [
        "Based on training data, we have 15.323 data with 10 features which goes to longitude, latitude, until median_house_value.\n",
        "\n",
        "Note that each feature is already in float64 type except for ocean_proximity. Most Machine Learning algorithms prefer to work with numbers, so let’s convert these categories from\n",
        "text to numbers. For this, we can use Scikit-Learn’s `LabelEncoder` class:"
      ],
      "metadata": {
        "id": "l0jExjd7r0Mo"
      }
    },
    {
      "cell_type": "code",
      "source": [
        "from sklearn import preprocessing\n",
        "#creating labelEncoder\n",
        "le = preprocessing.LabelEncoder()\n",
        "\n",
        "# Converting string data into numbers.\n",
        "ocean_proximity_encoded = le.fit_transform(df_housing['ocean_proximity'])\n",
        "print(\"ocean_proximity:\",ocean_proximity_encoded[0:5])"
      ],
      "metadata": {
        "colab": {
          "base_uri": "https://localhost:8080/"
        },
        "id": "YH_FOZv9t1QE",
        "outputId": "e4fb89f4-7d52-41ff-87c0-2672b6018154"
      },
      "execution_count": 3,
      "outputs": [
        {
          "output_type": "stream",
          "name": "stdout",
          "text": [
            "ocean_proximity: [3 3 3 3 3]\n"
          ]
        }
      ]
    },
    {
      "cell_type": "code",
      "source": [
        "df_housing['ocean_proximity'] = ocean_proximity_encoded\n",
        "\n",
        "df_housing.head()"
      ],
      "metadata": {
        "colab": {
          "base_uri": "https://localhost:8080/",
          "height": 270
        },
        "id": "dLD6yUV1uJ4z",
        "outputId": "97650c66-2ea5-44e9-f9cb-ec4a98366ef0"
      },
      "execution_count": 4,
      "outputs": [
        {
          "output_type": "execute_result",
          "data": {
            "text/plain": [
              "   longitude  latitude  housing_median_age  total_rooms  total_bedrooms  \\\n",
              "0    -122.23     37.88                41.0        880.0           129.0   \n",
              "1    -122.22     37.86                21.0       7099.0          1106.0   \n",
              "2    -122.24     37.85                52.0       1467.0           190.0   \n",
              "3    -122.25     37.85                52.0       1274.0           235.0   \n",
              "4    -122.25     37.85                52.0       1627.0           280.0   \n",
              "\n",
              "   population  households  median_income  ocean_proximity  median_house_value  \n",
              "0       322.0       126.0        83252.0                3            452600.0  \n",
              "1      2401.0      1138.0        83014.0                3            358500.0  \n",
              "2       496.0       177.0        72574.0                3            352100.0  \n",
              "3       558.0       219.0        56431.0                3            341300.0  \n",
              "4       565.0       259.0        38462.0                3            342200.0  "
            ],
            "text/html": [
              "\n",
              "  <div id=\"df-9f75c909-1563-4665-9b51-88425ff8bc3a\">\n",
              "    <div class=\"colab-df-container\">\n",
              "      <div>\n",
              "<style scoped>\n",
              "    .dataframe tbody tr th:only-of-type {\n",
              "        vertical-align: middle;\n",
              "    }\n",
              "\n",
              "    .dataframe tbody tr th {\n",
              "        vertical-align: top;\n",
              "    }\n",
              "\n",
              "    .dataframe thead th {\n",
              "        text-align: right;\n",
              "    }\n",
              "</style>\n",
              "<table border=\"1\" class=\"dataframe\">\n",
              "  <thead>\n",
              "    <tr style=\"text-align: right;\">\n",
              "      <th></th>\n",
              "      <th>longitude</th>\n",
              "      <th>latitude</th>\n",
              "      <th>housing_median_age</th>\n",
              "      <th>total_rooms</th>\n",
              "      <th>total_bedrooms</th>\n",
              "      <th>population</th>\n",
              "      <th>households</th>\n",
              "      <th>median_income</th>\n",
              "      <th>ocean_proximity</th>\n",
              "      <th>median_house_value</th>\n",
              "    </tr>\n",
              "  </thead>\n",
              "  <tbody>\n",
              "    <tr>\n",
              "      <th>0</th>\n",
              "      <td>-122.23</td>\n",
              "      <td>37.88</td>\n",
              "      <td>41.0</td>\n",
              "      <td>880.0</td>\n",
              "      <td>129.0</td>\n",
              "      <td>322.0</td>\n",
              "      <td>126.0</td>\n",
              "      <td>83252.0</td>\n",
              "      <td>3</td>\n",
              "      <td>452600.0</td>\n",
              "    </tr>\n",
              "    <tr>\n",
              "      <th>1</th>\n",
              "      <td>-122.22</td>\n",
              "      <td>37.86</td>\n",
              "      <td>21.0</td>\n",
              "      <td>7099.0</td>\n",
              "      <td>1106.0</td>\n",
              "      <td>2401.0</td>\n",
              "      <td>1138.0</td>\n",
              "      <td>83014.0</td>\n",
              "      <td>3</td>\n",
              "      <td>358500.0</td>\n",
              "    </tr>\n",
              "    <tr>\n",
              "      <th>2</th>\n",
              "      <td>-122.24</td>\n",
              "      <td>37.85</td>\n",
              "      <td>52.0</td>\n",
              "      <td>1467.0</td>\n",
              "      <td>190.0</td>\n",
              "      <td>496.0</td>\n",
              "      <td>177.0</td>\n",
              "      <td>72574.0</td>\n",
              "      <td>3</td>\n",
              "      <td>352100.0</td>\n",
              "    </tr>\n",
              "    <tr>\n",
              "      <th>3</th>\n",
              "      <td>-122.25</td>\n",
              "      <td>37.85</td>\n",
              "      <td>52.0</td>\n",
              "      <td>1274.0</td>\n",
              "      <td>235.0</td>\n",
              "      <td>558.0</td>\n",
              "      <td>219.0</td>\n",
              "      <td>56431.0</td>\n",
              "      <td>3</td>\n",
              "      <td>341300.0</td>\n",
              "    </tr>\n",
              "    <tr>\n",
              "      <th>4</th>\n",
              "      <td>-122.25</td>\n",
              "      <td>37.85</td>\n",
              "      <td>52.0</td>\n",
              "      <td>1627.0</td>\n",
              "      <td>280.0</td>\n",
              "      <td>565.0</td>\n",
              "      <td>259.0</td>\n",
              "      <td>38462.0</td>\n",
              "      <td>3</td>\n",
              "      <td>342200.0</td>\n",
              "    </tr>\n",
              "  </tbody>\n",
              "</table>\n",
              "</div>\n",
              "      <button class=\"colab-df-convert\" onclick=\"convertToInteractive('df-9f75c909-1563-4665-9b51-88425ff8bc3a')\"\n",
              "              title=\"Convert this dataframe to an interactive table.\"\n",
              "              style=\"display:none;\">\n",
              "        \n",
              "  <svg xmlns=\"http://www.w3.org/2000/svg\" height=\"24px\"viewBox=\"0 0 24 24\"\n",
              "       width=\"24px\">\n",
              "    <path d=\"M0 0h24v24H0V0z\" fill=\"none\"/>\n",
              "    <path d=\"M18.56 5.44l.94 2.06.94-2.06 2.06-.94-2.06-.94-.94-2.06-.94 2.06-2.06.94zm-11 1L8.5 8.5l.94-2.06 2.06-.94-2.06-.94L8.5 2.5l-.94 2.06-2.06.94zm10 10l.94 2.06.94-2.06 2.06-.94-2.06-.94-.94-2.06-.94 2.06-2.06.94z\"/><path d=\"M17.41 7.96l-1.37-1.37c-.4-.4-.92-.59-1.43-.59-.52 0-1.04.2-1.43.59L10.3 9.45l-7.72 7.72c-.78.78-.78 2.05 0 2.83L4 21.41c.39.39.9.59 1.41.59.51 0 1.02-.2 1.41-.59l7.78-7.78 2.81-2.81c.8-.78.8-2.07 0-2.86zM5.41 20L4 18.59l7.72-7.72 1.47 1.35L5.41 20z\"/>\n",
              "  </svg>\n",
              "      </button>\n",
              "      \n",
              "  <style>\n",
              "    .colab-df-container {\n",
              "      display:flex;\n",
              "      flex-wrap:wrap;\n",
              "      gap: 12px;\n",
              "    }\n",
              "\n",
              "    .colab-df-convert {\n",
              "      background-color: #E8F0FE;\n",
              "      border: none;\n",
              "      border-radius: 50%;\n",
              "      cursor: pointer;\n",
              "      display: none;\n",
              "      fill: #1967D2;\n",
              "      height: 32px;\n",
              "      padding: 0 0 0 0;\n",
              "      width: 32px;\n",
              "    }\n",
              "\n",
              "    .colab-df-convert:hover {\n",
              "      background-color: #E2EBFA;\n",
              "      box-shadow: 0px 1px 2px rgba(60, 64, 67, 0.3), 0px 1px 3px 1px rgba(60, 64, 67, 0.15);\n",
              "      fill: #174EA6;\n",
              "    }\n",
              "\n",
              "    [theme=dark] .colab-df-convert {\n",
              "      background-color: #3B4455;\n",
              "      fill: #D2E3FC;\n",
              "    }\n",
              "\n",
              "    [theme=dark] .colab-df-convert:hover {\n",
              "      background-color: #434B5C;\n",
              "      box-shadow: 0px 1px 3px 1px rgba(0, 0, 0, 0.15);\n",
              "      filter: drop-shadow(0px 1px 2px rgba(0, 0, 0, 0.3));\n",
              "      fill: #FFFFFF;\n",
              "    }\n",
              "  </style>\n",
              "\n",
              "      <script>\n",
              "        const buttonEl =\n",
              "          document.querySelector('#df-9f75c909-1563-4665-9b51-88425ff8bc3a button.colab-df-convert');\n",
              "        buttonEl.style.display =\n",
              "          google.colab.kernel.accessAllowed ? 'block' : 'none';\n",
              "\n",
              "        async function convertToInteractive(key) {\n",
              "          const element = document.querySelector('#df-9f75c909-1563-4665-9b51-88425ff8bc3a');\n",
              "          const dataTable =\n",
              "            await google.colab.kernel.invokeFunction('convertToInteractive',\n",
              "                                                     [key], {});\n",
              "          if (!dataTable) return;\n",
              "\n",
              "          const docLinkHtml = 'Like what you see? Visit the ' +\n",
              "            '<a target=\"_blank\" href=https://colab.research.google.com/notebooks/data_table.ipynb>data table notebook</a>'\n",
              "            + ' to learn more about interactive tables.';\n",
              "          element.innerHTML = '';\n",
              "          dataTable['output_type'] = 'display_data';\n",
              "          await google.colab.output.renderOutput(dataTable, element);\n",
              "          const docLink = document.createElement('div');\n",
              "          docLink.innerHTML = docLinkHtml;\n",
              "          element.appendChild(docLink);\n",
              "        }\n",
              "      </script>\n",
              "    </div>\n",
              "  </div>\n",
              "  "
            ]
          },
          "metadata": {},
          "execution_count": 4
        }
      ]
    },
    {
      "cell_type": "markdown",
      "source": [
        "In California housing, the labels are the value in median_house_value and the features, we want to take all values from longitude to median_income. Then, we need to make a list of features and the labels. Here is the feature and label names:"
      ],
      "metadata": {
        "id": "x9GL2W7cuqTX"
      }
    },
    {
      "cell_type": "code",
      "source": [
        "feature_names = ['longitude', 'latitude', 'housing_median_age', 'total_rooms', 'total_bedrooms', 'population', \n",
        "            'households', 'median_income', 'ocean_proximity']\n",
        "label_name = ['median_house_value']\n",
        "\n",
        "features = df_housing[feature_names].values\n",
        "label = df_housing[label_name].values\n",
        "\n",
        "print(features.shape)\n",
        "print(label.shape)"
      ],
      "metadata": {
        "colab": {
          "base_uri": "https://localhost:8080/"
        },
        "id": "fJyjLCijuXYz",
        "outputId": "7ee10556-59b7-44aa-8fc4-086af568dcf8"
      },
      "execution_count": 5,
      "outputs": [
        {
          "output_type": "stream",
          "name": "stdout",
          "text": [
            "(15323, 9)\n",
            "(15323, 1)\n"
          ]
        }
      ]
    },
    {
      "cell_type": "markdown",
      "source": [
        "When the value range between your feature is too big, `StandardScaler` is used to resize the distribution of values. This helps us to speed up our optimization algorithm (gradient descent) and obtain a more accurate classifier."
      ],
      "metadata": {
        "id": "1hqUlhQ7vkhE"
      }
    },
    {
      "cell_type": "code",
      "source": [
        "### Sandardization of data ###\n",
        "from sklearn.preprocessing import StandardScaler\n",
        "\n",
        "PredictorScalerFit = StandardScaler().fit(features)\n",
        "TargetVarScalerFit = StandardScaler().fit(label)\n",
        "\n",
        "# Generating the standardized values of X and y\n",
        "X=PredictorScalerFit.transform(features)\n",
        "y=TargetVarScalerFit.transform(label)\n",
        "\n",
        "print('before scaling:\\n',label[0:5])\n",
        "print('after scaling:\\n',y[0:5])"
      ],
      "metadata": {
        "colab": {
          "base_uri": "https://localhost:8080/"
        },
        "id": "rXvbWkBgvjCU",
        "outputId": "d4ac02d2-4ab3-46de-e0ac-9fae60202155"
      },
      "execution_count": 6,
      "outputs": [
        {
          "output_type": "stream",
          "name": "stdout",
          "text": [
            "before scaling:\n",
            " [[452600.]\n",
            " [358500.]\n",
            " [352100.]\n",
            " [341300.]\n",
            " [342200.]]\n",
            "after scaling:\n",
            " [[2.27547387]\n",
            " [1.43083933]\n",
            " [1.37339341]\n",
            " [1.27645342]\n",
            " [1.28453176]]\n"
          ]
        }
      ]
    },
    {
      "cell_type": "markdown",
      "source": [
        "### Creating the model using the Sequential API\n",
        "Now let’s build the neural network! Here is a regression MLP with two hidden layers:"
      ],
      "metadata": {
        "id": "HhAyB1kAwZxP"
      }
    },
    {
      "cell_type": "code",
      "source": [
        "import tensorflow as tf\n",
        "from tensorflow import keras\n",
        "from keras.models import Sequential\n",
        "from keras.layers import Dense\n",
        "\n",
        "model_nn = Sequential([Dense(30, activation=\"relu\", input_shape=X.shape[1:]),\n",
        "                       Dense(1, kernel_initializer='normal')])\n"
      ],
      "metadata": {
        "id": "tiMwVlQjwVXu"
      },
      "execution_count": 7,
      "outputs": []
    },
    {
      "cell_type": "markdown",
      "source": [
        "* The first line creates a Sequential model. This is the simplest kind of Keras model for neural networks that are just composed of a single stack of layers connected sequentially. This is called the Sequential API.\n",
        "* Next, we build the first layer and add it to the model. It is a Dense hidden layer with 30 neurons. Since it is the first layer in the model, you should specify the `input_shape`.\n",
        "* Lastly, we add a Dense output layer with 1 neurons (because the regression only need 1 value for the predicted output).\n",
        "\n",
        "The model’s summary() method displays all the model’s layers, including each layer’s name (which is automatically generated unless you set it when creating the layer), its output shape (None means the batch size can be anything), and its number of parameters. The summary ends with the total number of parameters, including trainable and non-trainable parameters. Here we only have trainable parameters:"
      ],
      "metadata": {
        "id": "vRN_-l9gw6Yq"
      }
    },
    {
      "cell_type": "code",
      "source": [
        "model_nn.summary()"
      ],
      "metadata": {
        "colab": {
          "base_uri": "https://localhost:8080/"
        },
        "id": "SDf1Ngzow104",
        "outputId": "14c2a8b9-3a5b-4f83-918f-55297ccfa05f"
      },
      "execution_count": 8,
      "outputs": [
        {
          "output_type": "stream",
          "name": "stdout",
          "text": [
            "Model: \"sequential\"\n",
            "_________________________________________________________________\n",
            " Layer (type)                Output Shape              Param #   \n",
            "=================================================================\n",
            " dense (Dense)               (None, 30)                300       \n",
            "                                                                 \n",
            " dense_1 (Dense)             (None, 1)                 31        \n",
            "                                                                 \n",
            "=================================================================\n",
            "Total params: 331\n",
            "Trainable params: 331\n",
            "Non-trainable params: 0\n",
            "_________________________________________________________________\n"
          ]
        }
      ]
    },
    {
      "cell_type": "markdown",
      "source": [
        "Note that Dense layers often have a lot of parameters. For example, the first hidden layer has 9 × 30 connection weights, which adds up to 270 parameters. When the output only have 1 parameter, plus 30 bias terms."
      ],
      "metadata": {
        "id": "6Wi3qb-ux4hK"
      }
    },
    {
      "cell_type": "markdown",
      "source": [
        "### Compiling the model\n",
        "\n",
        "After a model is created, you must call its `compile()` method to specify the loss function and the optimizer to use. Optionally, you can specify a list of extra metrics to compute during training and evaluation:"
      ],
      "metadata": {
        "id": "WyWJ3iynygvg"
      }
    },
    {
      "cell_type": "code",
      "source": [
        "model_nn.compile(loss=\"mean_squared_error\", optimizer='rmsprop')"
      ],
      "metadata": {
        "id": "gzWUksdAx1Pi"
      },
      "execution_count": 9,
      "outputs": []
    },
    {
      "cell_type": "markdown",
      "source": [
        "* First, we use the `\"mean_squared_error\"` loss because we  are predicting regression model. If we were doing classification model you can eiter choose  `\"sparse_categorical_crossentropy\"` loss for multilabel classificaion or `\"binary_crossentropy\"` for binary classification (with one or more binary labels), then we would use the `\"sigmoid\"` (i.e., logistic) activation function in the output layer instead of the `\"softmax\"` activation function.\n",
        "\n",
        "* Regarding the optimizer, `\"rmsprop\"` means that we will train the model using RMS Propagation optimizer."
      ],
      "metadata": {
        "id": "m1QhTC_mylsv"
      }
    },
    {
      "cell_type": "markdown",
      "source": [
        "### Training and evaluating the model\n",
        "Now the model is ready to be trained. For this we simply need to call its `fit()` method:"
      ],
      "metadata": {
        "id": "K6BldmnSzRmz"
      }
    },
    {
      "cell_type": "code",
      "source": [
        "history = model_nn.fit(X, y, batch_size = 10, epochs = 100, \n",
        "                       callbacks=keras.callbacks.EarlyStopping(monitor='val_loss', patience=10), \n",
        "                       verbose=1, validation_split=0.25)"
      ],
      "metadata": {
        "colab": {
          "base_uri": "https://localhost:8080/"
        },
        "id": "uiroGG3QylZP",
        "outputId": "40676320-3084-42c8-b862-2736d50853aa"
      },
      "execution_count": 10,
      "outputs": [
        {
          "output_type": "stream",
          "name": "stdout",
          "text": [
            "1150/1150 [==============================] - 3s 2ms/step - loss: 0.2919 - val_loss: 0.4892\n"
          ]
        }
      ]
    },
    {
      "cell_type": "markdown",
      "source": [
        "You can see that both the training loss and the validation loss steadily decrease during training. The training loss given that about 0.2785 while for the validation loss was about 0.4765. Moreover, in the figure below the validation curves are quite close to the training curves, which means that there is not too much overfitting. "
      ],
      "metadata": {
        "id": "Pisl1_M-0ZHB"
      }
    },
    {
      "cell_type": "code",
      "source": [
        "import pandas as pd\n",
        "import matplotlib.pyplot as plt\n",
        "\n",
        "pd.DataFrame(history.history).plot(figsize=(8, 5))\n",
        "plt.grid(True)\n",
        "plt.gca().set_ylim(0, 1) # set the vertical range to [0-1]\n",
        "plt.show()"
      ],
      "metadata": {
        "colab": {
          "base_uri": "https://localhost:8080/",
          "height": 324
        },
        "id": "Ki6Asgek0Ero",
        "outputId": "940bcd99-45a0-4f9d-e16f-14aa51322103"
      },
      "execution_count": 11,
      "outputs": [
        {
          "output_type": "display_data",
          "data": {
            "text/plain": [
              "<Figure size 576x360 with 1 Axes>"
            ],
            "image/png": "[encoded data removed]"
          },
          "metadata": {
            "needs_background": "light"
          }
        }
      ]
    },
    {
      "cell_type": "markdown",
      "source": [
        "Once you are satisfied with your model’s validation loss, you should evaluate it on the test set to estimate the generalization error before you deploy the model to production.\n",
        "\n",
        "But first, you should import the test set and do the similar thing you done on training set, before use `compile()` to evaluate your model."
      ],
      "metadata": {
        "id": "QPhir0PG0z4o"
      }
    },
    {
      "cell_type": "code",
      "source": [
        "import pandas as pd\n",
        "\n",
        "df_test = pd.read_excel('/content/sample_data/housing_price_test.xlsx')\n",
        "\n",
        "df_test.head()"
      ],
      "metadata": {
        "colab": {
          "base_uri": "https://localhost:8080/",
          "height": 270
        },
        "id": "_fvdTIvW04mn",
        "outputId": "aafa91e0-ef69-42fa-e565-f54ba984f565"
      },
      "execution_count": 12,
      "outputs": [
        {
          "output_type": "execute_result",
          "data": {
            "text/plain": [
              "   longitude  latitude  housing_median_age  total_rooms  total_bedrooms  \\\n",
              "0    -117.20     33.14                19.0       2025.0           414.0   \n",
              "1    -117.22     33.14                 5.0       4576.0           848.0   \n",
              "2    -117.21     33.14                12.0       4839.0           954.0   \n",
              "3    -117.21     33.13                15.0       1889.0           368.0   \n",
              "4    -117.17     33.18                25.0        596.0           115.0   \n",
              "\n",
              "   population  households  median_income ocean_proximity  median_house_value  \n",
              "0      1663.0       403.0        38147.0       <1H OCEAN            139200.0  \n",
              "1      2314.0       705.0        50123.0      NEAR OCEAN            210400.0  \n",
              "2      1708.0       952.0        28586.0       <1H OCEAN            163300.0  \n",
              "3       754.0       409.0        22278.0      NEAR OCEAN            132800.0  \n",
              "4       426.0       137.0        30221.0       <1H OCEAN            214300.0  "
            ],
            "text/html": [
              "\n",
              "  <div id=\"df-7f385ac2-d88c-49c7-87e4-0efe57bea2cd\">\n",
              "    <div class=\"colab-df-container\">\n",
              "      <div>\n",
              "<style scoped>\n",
              "    .dataframe tbody tr th:only-of-type {\n",
              "        vertical-align: middle;\n",
              "    }\n",
              "\n",
              "    .dataframe tbody tr th {\n",
              "        vertical-align: top;\n",
              "    }\n",
              "\n",
              "    .dataframe thead th {\n",
              "        text-align: right;\n",
              "    }\n",
              "</style>\n",
              "<table border=\"1\" class=\"dataframe\">\n",
              "  <thead>\n",
              "    <tr style=\"text-align: right;\">\n",
              "      <th></th>\n",
              "      <th>longitude</th>\n",
              "      <th>latitude</th>\n",
              "      <th>housing_median_age</th>\n",
              "      <th>total_rooms</th>\n",
              "      <th>total_bedrooms</th>\n",
              "      <th>population</th>\n",
              "      <th>households</th>\n",
              "      <th>median_income</th>\n",
              "      <th>ocean_proximity</th>\n",
              "      <th>median_house_value</th>\n",
              "    </tr>\n",
              "  </thead>\n",
              "  <tbody>\n",
              "    <tr>\n",
              "      <th>0</th>\n",
              "      <td>-117.20</td>\n",
              "      <td>33.14</td>\n",
              "      <td>19.0</td>\n",
              "      <td>2025.0</td>\n",
              "      <td>414.0</td>\n",
              "      <td>1663.0</td>\n",
              "      <td>403.0</td>\n",
              "      <td>38147.0</td>\n",
              "      <td>&lt;1H OCEAN</td>\n",
              "      <td>139200.0</td>\n",
              "    </tr>\n",
              "    <tr>\n",
              "      <th>1</th>\n",
              "      <td>-117.22</td>\n",
              "      <td>33.14</td>\n",
              "      <td>5.0</td>\n",
              "      <td>4576.0</td>\n",
              "      <td>848.0</td>\n",
              "      <td>2314.0</td>\n",
              "      <td>705.0</td>\n",
              "      <td>50123.0</td>\n",
              "      <td>NEAR OCEAN</td>\n",
              "      <td>210400.0</td>\n",
              "    </tr>\n",
              "    <tr>\n",
              "      <th>2</th>\n",
              "      <td>-117.21</td>\n",
              "      <td>33.14</td>\n",
              "      <td>12.0</td>\n",
              "      <td>4839.0</td>\n",
              "      <td>954.0</td>\n",
              "      <td>1708.0</td>\n",
              "      <td>952.0</td>\n",
              "      <td>28586.0</td>\n",
              "      <td>&lt;1H OCEAN</td>\n",
              "      <td>163300.0</td>\n",
              "    </tr>\n",
              "    <tr>\n",
              "      <th>3</th>\n",
              "      <td>-117.21</td>\n",
              "      <td>33.13</td>\n",
              "      <td>15.0</td>\n",
              "      <td>1889.0</td>\n",
              "      <td>368.0</td>\n",
              "      <td>754.0</td>\n",
              "      <td>409.0</td>\n",
              "      <td>22278.0</td>\n",
              "      <td>NEAR OCEAN</td>\n",
              "      <td>132800.0</td>\n",
              "    </tr>\n",
              "    <tr>\n",
              "      <th>4</th>\n",
              "      <td>-117.17</td>\n",
              "      <td>33.18</td>\n",
              "      <td>25.0</td>\n",
              "      <td>596.0</td>\n",
              "      <td>115.0</td>\n",
              "      <td>426.0</td>\n",
              "      <td>137.0</td>\n",
              "      <td>30221.0</td>\n",
              "      <td>&lt;1H OCEAN</td>\n",
              "      <td>214300.0</td>\n",
              "    </tr>\n",
              "  </tbody>\n",
              "</table>\n",
              "</div>\n",
              "      <button class=\"colab-df-convert\" onclick=\"convertToInteractive('df-7f385ac2-d88c-49c7-87e4-0efe57bea2cd')\"\n",
              "              title=\"Convert this dataframe to an interactive table.\"\n",
              "              style=\"display:none;\">\n",
              "        \n",
              "  <svg xmlns=\"http://www.w3.org/2000/svg\" height=\"24px\"viewBox=\"0 0 24 24\"\n",
              "       width=\"24px\">\n",
              "    <path d=\"M0 0h24v24H0V0z\" fill=\"none\"/>\n",
              "    <path d=\"M18.56 5.44l.94 2.06.94-2.06 2.06-.94-2.06-.94-.94-2.06-.94 2.06-2.06.94zm-11 1L8.5 8.5l.94-2.06 2.06-.94-2.06-.94L8.5 2.5l-.94 2.06-2.06.94zm10 10l.94 2.06.94-2.06 2.06-.94-2.06-.94-.94-2.06-.94 2.06-2.06.94z\"/><path d=\"M17.41 7.96l-1.37-1.37c-.4-.4-.92-.59-1.43-.59-.52 0-1.04.2-1.43.59L10.3 9.45l-7.72 7.72c-.78.78-.78 2.05 0 2.83L4 21.41c.39.39.9.59 1.41.59.51 0 1.02-.2 1.41-.59l7.78-7.78 2.81-2.81c.8-.78.8-2.07 0-2.86zM5.41 20L4 18.59l7.72-7.72 1.47 1.35L5.41 20z\"/>\n",
              "  </svg>\n",
              "      </button>\n",
              "      \n",
              "  <style>\n",
              "    .colab-df-container {\n",
              "      display:flex;\n",
              "      flex-wrap:wrap;\n",
              "      gap: 12px;\n",
              "    }\n",
              "\n",
              "    .colab-df-convert {\n",
              "      background-color: #E8F0FE;\n",
              "      border: none;\n",
              "      border-radius: 50%;\n",
              "      cursor: pointer;\n",
              "      display: none;\n",
              "      fill: #1967D2;\n",
              "      height: 32px;\n",
              "      padding: 0 0 0 0;\n",
              "      width: 32px;\n",
              "    }\n",
              "\n",
              "    .colab-df-convert:hover {\n",
              "      background-color: #E2EBFA;\n",
              "      box-shadow: 0px 1px 2px rgba(60, 64, 67, 0.3), 0px 1px 3px 1px rgba(60, 64, 67, 0.15);\n",
              "      fill: #174EA6;\n",
              "    }\n",
              "\n",
              "    [theme=dark] .colab-df-convert {\n",
              "      background-color: #3B4455;\n",
              "      fill: #D2E3FC;\n",
              "    }\n",
              "\n",
              "    [theme=dark] .colab-df-convert:hover {\n",
              "      background-color: #434B5C;\n",
              "      box-shadow: 0px 1px 3px 1px rgba(0, 0, 0, 0.15);\n",
              "      filter: drop-shadow(0px 1px 2px rgba(0, 0, 0, 0.3));\n",
              "      fill: #FFFFFF;\n",
              "    }\n",
              "  </style>\n",
              "\n",
              "      <script>\n",
              "        const buttonEl =\n",
              "          document.querySelector('#df-7f385ac2-d88c-49c7-87e4-0efe57bea2cd button.colab-df-convert');\n",
              "        buttonEl.style.display =\n",
              "          google.colab.kernel.accessAllowed ? 'block' : 'none';\n",
              "\n",
              "        async function convertToInteractive(key) {\n",
              "          const element = document.querySelector('#df-7f385ac2-d88c-49c7-87e4-0efe57bea2cd');\n",
              "          const dataTable =\n",
              "            await google.colab.kernel.invokeFunction('convertToInteractive',\n",
              "                                                     [key], {});\n",
              "          if (!dataTable) return;\n",
              "\n",
              "          const docLinkHtml = 'Like what you see? Visit the ' +\n",
              "            '<a target=\"_blank\" href=https://colab.research.google.com/notebooks/data_table.ipynb>data table notebook</a>'\n",
              "            + ' to learn more about interactive tables.';\n",
              "          element.innerHTML = '';\n",
              "          dataTable['output_type'] = 'display_data';\n",
              "          await google.colab.output.renderOutput(dataTable, element);\n",
              "          const docLink = document.createElement('div');\n",
              "          docLink.innerHTML = docLinkHtml;\n",
              "          element.appendChild(docLink);\n",
              "        }\n",
              "      </script>\n",
              "    </div>\n",
              "  </div>\n",
              "  "
            ]
          },
          "metadata": {},
          "execution_count": 12
        }
      ]
    },
    {
      "cell_type": "code",
      "source": [
        "print(df_test.shape)"
      ],
      "metadata": {
        "colab": {
          "base_uri": "https://localhost:8080/"
        },
        "id": "z-1c1qyd1N9-",
        "outputId": "501bfe60-1e8c-4df6-83c4-331c324fb492"
      },
      "execution_count": 13,
      "outputs": [
        {
          "output_type": "stream",
          "name": "stdout",
          "text": [
            "(5110, 10)\n"
          ]
        }
      ]
    },
    {
      "cell_type": "markdown",
      "source": [
        "Based on test data, we only have 5.110 data. Then used `labelEncoder` class to convert the ocean_proximity to a number."
      ],
      "metadata": {
        "id": "XUAAYF3N1wAq"
      }
    },
    {
      "cell_type": "code",
      "source": [
        "from sklearn import preprocessing\n",
        "#creating labelEncoder\n",
        "le = preprocessing.LabelEncoder()\n",
        "\n",
        "# Converting string data into numbers.\n",
        "ocean_proximity_encoded = le.fit_transform(df_test['ocean_proximity'])\n",
        "print(\"ocean_proximity:\",ocean_proximity_encoded[0:5])\n",
        "df_test['ocean_proximity'] = ocean_proximity_encoded\n",
        "df_test.head()"
      ],
      "metadata": {
        "colab": {
          "base_uri": "https://localhost:8080/",
          "height": 288
        },
        "id": "GzMkGZRW2tB6",
        "outputId": "ef83a344-bfa2-4474-dc8c-0f291aec7a49"
      },
      "execution_count": 14,
      "outputs": [
        {
          "output_type": "stream",
          "name": "stdout",
          "text": [
            "ocean_proximity: [0 3 0 3 0]\n"
          ]
        },
        {
          "output_type": "execute_result",
          "data": {
            "text/plain": [
              "   longitude  latitude  housing_median_age  total_rooms  total_bedrooms  \\\n",
              "0    -117.20     33.14                19.0       2025.0           414.0   \n",
              "1    -117.22     33.14                 5.0       4576.0           848.0   \n",
              "2    -117.21     33.14                12.0       4839.0           954.0   \n",
              "3    -117.21     33.13                15.0       1889.0           368.0   \n",
              "4    -117.17     33.18                25.0        596.0           115.0   \n",
              "\n",
              "   population  households  median_income  ocean_proximity  median_house_value  \n",
              "0      1663.0       403.0        38147.0                0            139200.0  \n",
              "1      2314.0       705.0        50123.0                3            210400.0  \n",
              "2      1708.0       952.0        28586.0                0            163300.0  \n",
              "3       754.0       409.0        22278.0                3            132800.0  \n",
              "4       426.0       137.0        30221.0                0            214300.0  "
            ],
            "text/html": [
              "\n",
              "  <div id=\"df-ba30388c-57db-459d-8704-f13f9ec7f05d\">\n",
              "    <div class=\"colab-df-container\">\n",
              "      <div>\n",
              "<style scoped>\n",
              "    .dataframe tbody tr th:only-of-type {\n",
              "        vertical-align: middle;\n",
              "    }\n",
              "\n",
              "    .dataframe tbody tr th {\n",
              "        vertical-align: top;\n",
              "    }\n",
              "\n",
              "    .dataframe thead th {\n",
              "        text-align: right;\n",
              "    }\n",
              "</style>\n",
              "<table border=\"1\" class=\"dataframe\">\n",
              "  <thead>\n",
              "    <tr style=\"text-align: right;\">\n",
              "      <th></th>\n",
              "      <th>longitude</th>\n",
              "      <th>latitude</th>\n",
              "      <th>housing_median_age</th>\n",
              "      <th>total_rooms</th>\n",
              "      <th>total_bedrooms</th>\n",
              "      <th>population</th>\n",
              "      <th>households</th>\n",
              "      <th>median_income</th>\n",
              "      <th>ocean_proximity</th>\n",
              "      <th>median_house_value</th>\n",
              "    </tr>\n",
              "  </thead>\n",
              "  <tbody>\n",
              "    <tr>\n",
              "      <th>0</th>\n",
              "      <td>-117.20</td>\n",
              "      <td>33.14</td>\n",
              "      <td>19.0</td>\n",
              "      <td>2025.0</td>\n",
              "      <td>414.0</td>\n",
              "      <td>1663.0</td>\n",
              "      <td>403.0</td>\n",
              "      <td>38147.0</td>\n",
              "      <td>0</td>\n",
              "      <td>139200.0</td>\n",
              "    </tr>\n",
              "    <tr>\n",
              "      <th>1</th>\n",
              "      <td>-117.22</td>\n",
              "      <td>33.14</td>\n",
              "      <td>5.0</td>\n",
              "      <td>4576.0</td>\n",
              "      <td>848.0</td>\n",
              "      <td>2314.0</td>\n",
              "      <td>705.0</td>\n",
              "      <td>50123.0</td>\n",
              "      <td>3</td>\n",
              "      <td>210400.0</td>\n",
              "    </tr>\n",
              "    <tr>\n",
              "      <th>2</th>\n",
              "      <td>-117.21</td>\n",
              "      <td>33.14</td>\n",
              "      <td>12.0</td>\n",
              "      <td>4839.0</td>\n",
              "      <td>954.0</td>\n",
              "      <td>1708.0</td>\n",
              "      <td>952.0</td>\n",
              "      <td>28586.0</td>\n",
              "      <td>0</td>\n",
              "      <td>163300.0</td>\n",
              "    </tr>\n",
              "    <tr>\n",
              "      <th>3</th>\n",
              "      <td>-117.21</td>\n",
              "      <td>33.13</td>\n",
              "      <td>15.0</td>\n",
              "      <td>1889.0</td>\n",
              "      <td>368.0</td>\n",
              "      <td>754.0</td>\n",
              "      <td>409.0</td>\n",
              "      <td>22278.0</td>\n",
              "      <td>3</td>\n",
              "      <td>132800.0</td>\n",
              "    </tr>\n",
              "    <tr>\n",
              "      <th>4</th>\n",
              "      <td>-117.17</td>\n",
              "      <td>33.18</td>\n",
              "      <td>25.0</td>\n",
              "      <td>596.0</td>\n",
              "      <td>115.0</td>\n",
              "      <td>426.0</td>\n",
              "      <td>137.0</td>\n",
              "      <td>30221.0</td>\n",
              "      <td>0</td>\n",
              "      <td>214300.0</td>\n",
              "    </tr>\n",
              "  </tbody>\n",
              "</table>\n",
              "</div>\n",
              "      <button class=\"colab-df-convert\" onclick=\"convertToInteractive('df-ba30388c-57db-459d-8704-f13f9ec7f05d')\"\n",
              "              title=\"Convert this dataframe to an interactive table.\"\n",
              "              style=\"display:none;\">\n",
              "        \n",
              "  <svg xmlns=\"http://www.w3.org/2000/svg\" height=\"24px\"viewBox=\"0 0 24 24\"\n",
              "       width=\"24px\">\n",
              "    <path d=\"M0 0h24v24H0V0z\" fill=\"none\"/>\n",
              "    <path d=\"M18.56 5.44l.94 2.06.94-2.06 2.06-.94-2.06-.94-.94-2.06-.94 2.06-2.06.94zm-11 1L8.5 8.5l.94-2.06 2.06-.94-2.06-.94L8.5 2.5l-.94 2.06-2.06.94zm10 10l.94 2.06.94-2.06 2.06-.94-2.06-.94-.94-2.06-.94 2.06-2.06.94z\"/><path d=\"M17.41 7.96l-1.37-1.37c-.4-.4-.92-.59-1.43-.59-.52 0-1.04.2-1.43.59L10.3 9.45l-7.72 7.72c-.78.78-.78 2.05 0 2.83L4 21.41c.39.39.9.59 1.41.59.51 0 1.02-.2 1.41-.59l7.78-7.78 2.81-2.81c.8-.78.8-2.07 0-2.86zM5.41 20L4 18.59l7.72-7.72 1.47 1.35L5.41 20z\"/>\n",
              "  </svg>\n",
              "      </button>\n",
              "      \n",
              "  <style>\n",
              "    .colab-df-container {\n",
              "      display:flex;\n",
              "      flex-wrap:wrap;\n",
              "      gap: 12px;\n",
              "    }\n",
              "\n",
              "    .colab-df-convert {\n",
              "      background-color: #E8F0FE;\n",
              "      border: none;\n",
              "      border-radius: 50%;\n",
              "      cursor: pointer;\n",
              "      display: none;\n",
              "      fill: #1967D2;\n",
              "      height: 32px;\n",
              "      padding: 0 0 0 0;\n",
              "      width: 32px;\n",
              "    }\n",
              "\n",
              "    .colab-df-convert:hover {\n",
              "      background-color: #E2EBFA;\n",
              "      box-shadow: 0px 1px 2px rgba(60, 64, 67, 0.3), 0px 1px 3px 1px rgba(60, 64, 67, 0.15);\n",
              "      fill: #174EA6;\n",
              "    }\n",
              "\n",
              "    [theme=dark] .colab-df-convert {\n",
              "      background-color: #3B4455;\n",
              "      fill: #D2E3FC;\n",
              "    }\n",
              "\n",
              "    [theme=dark] .colab-df-convert:hover {\n",
              "      background-color: #434B5C;\n",
              "      box-shadow: 0px 1px 3px 1px rgba(0, 0, 0, 0.15);\n",
              "      filter: drop-shadow(0px 1px 2px rgba(0, 0, 0, 0.3));\n",
              "      fill: #FFFFFF;\n",
              "    }\n",
              "  </style>\n",
              "\n",
              "      <script>\n",
              "        const buttonEl =\n",
              "          document.querySelector('#df-ba30388c-57db-459d-8704-f13f9ec7f05d button.colab-df-convert');\n",
              "        buttonEl.style.display =\n",
              "          google.colab.kernel.accessAllowed ? 'block' : 'none';\n",
              "\n",
              "        async function convertToInteractive(key) {\n",
              "          const element = document.querySelector('#df-ba30388c-57db-459d-8704-f13f9ec7f05d');\n",
              "          const dataTable =\n",
              "            await google.colab.kernel.invokeFunction('convertToInteractive',\n",
              "                                                     [key], {});\n",
              "          if (!dataTable) return;\n",
              "\n",
              "          const docLinkHtml = 'Like what you see? Visit the ' +\n",
              "            '<a target=\"_blank\" href=https://colab.research.google.com/notebooks/data_table.ipynb>data table notebook</a>'\n",
              "            + ' to learn more about interactive tables.';\n",
              "          element.innerHTML = '';\n",
              "          dataTable['output_type'] = 'display_data';\n",
              "          await google.colab.output.renderOutput(dataTable, element);\n",
              "          const docLink = document.createElement('div');\n",
              "          docLink.innerHTML = docLinkHtml;\n",
              "          element.appendChild(docLink);\n",
              "        }\n",
              "      </script>\n",
              "    </div>\n",
              "  </div>\n",
              "  "
            ]
          },
          "metadata": {},
          "execution_count": 14
        }
      ]
    },
    {
      "cell_type": "code",
      "source": [
        "data_test = df_test[feature_names].values\n",
        "labels_test = df_test[label_name].values\n",
        "\n",
        "print(data_test.shape)\n",
        "print(labels_test.shape)"
      ],
      "metadata": {
        "colab": {
          "base_uri": "https://localhost:8080/"
        },
        "id": "35Vrmyj23Bj-",
        "outputId": "708f1ad2-f2db-438d-8035-6ba95a68e571"
      },
      "execution_count": 15,
      "outputs": [
        {
          "output_type": "stream",
          "name": "stdout",
          "text": [
            "(5110, 9)\n",
            "(5110, 1)\n"
          ]
        }
      ]
    },
    {
      "cell_type": "markdown",
      "source": [
        "Scale the test set to improve the evaluation process"
      ],
      "metadata": {
        "id": "WLr-zNDx5ECz"
      }
    },
    {
      "cell_type": "code",
      "source": [
        "### Sandardization of data ###\n",
        "from sklearn.preprocessing import StandardScaler\n",
        "\n",
        "PredictorScalerFit = StandardScaler().fit(data_test)\n",
        "LabelsScalerFit = StandardScaler().fit(labels_test)\n",
        "\n",
        "# Generating the standardized values of X and y\n",
        "X_test = PredictorScalerFit.transform(data_test)\n",
        "y_test = LabelsScalerFit.transform(labels_test)"
      ],
      "metadata": {
        "id": "_XG8HfiA1rXy"
      },
      "execution_count": 16,
      "outputs": []
    },
    {
      "cell_type": "markdown",
      "source": [
        "Make a prediction using the model you build in the training set, the evaluate it using `evaluate()`"
      ],
      "metadata": {
        "id": "DSVDcfoh5OuM"
      }
    },
    {
      "cell_type": "code",
      "source": [
        "# Generating Predictions on testing data\n",
        "Predictions=model_nn.predict(X_test)\n",
        "mse_ann_test = model_nn.evaluate(X_test, y_test)\n",
        "print('ANN MSE:', mse_ann_test)"
      ],
      "metadata": {
        "colab": {
          "base_uri": "https://localhost:8080/"
        },
        "id": "zSQhMe_a5MYu",
        "outputId": "1449acef-7cd7-452c-eb76-e7e19701fff9"
      },
      "execution_count": 17,
      "outputs": [
        {
          "output_type": "stream",
          "name": "stdout",
          "text": [
            "160/160 [==============================] - 0s 1ms/step - loss: 0.6826\n",
            "ANN MSE: 0.6826391220092773\n"
          ]
        }
      ]
    },
    {
      "cell_type": "markdown",
      "source": [
        "Based on the evaluation process, the model give loss value about 0.642 on the test set. You can either change the model hyperparameters to make the result better, or just keep going to produce the results.\n",
        "\n",
        "If you are not satisfied with the performance of your model, you should go back and tune the hyperparameters. The first one to try is change another `optimizer`. If the performance is still not great, then try tuning model hyperparameters such as the number of layers, the number of neurons per layer, and the types of activation functions to use for each hidden layer. You can also try tuning other hyperparameters, such as the batch size (it can be set in the fit() method using the `batch_size argument`, which defaults to 32).\n",
        "\n",
        "If you satisfied with the model, you should rescale the labels and the predicted value into its original form. So, you can see better visualization."
      ],
      "metadata": {
        "id": "ml43XG9E5lJX"
      }
    },
    {
      "cell_type": "code",
      "source": [
        "# Scaling the predicted and actual value Price data back to original price scale\n",
        "ann_predictions = LabelsScalerFit.inverse_transform(Predictions)\n",
        "y_test_orig = LabelsScalerFit.inverse_transform(y_test)\n",
        "\n",
        "TestingData = pd.DataFrame(data=data_test, columns=feature_names)"
      ],
      "metadata": {
        "id": "6rQQOoeT56-H"
      },
      "execution_count": 18,
      "outputs": []
    },
    {
      "cell_type": "markdown",
      "source": [
        "Compare the predicted with the actual value with the table"
      ],
      "metadata": {
        "id": "LkzNmWG_7met"
      }
    },
    {
      "cell_type": "code",
      "source": [
        "TestingData['median_house_income'] = y_test_orig\n",
        "TestingData['ann_predictions'] = ann_predictions\n",
        "TestingData.head()"
      ],
      "metadata": {
        "colab": {
          "base_uri": "https://localhost:8080/",
          "height": 270
        },
        "id": "kItSBStp7dBr",
        "outputId": "ed9ee8d7-2187-4b54-9128-8fc928aa1e85"
      },
      "execution_count": 19,
      "outputs": [
        {
          "output_type": "execute_result",
          "data": {
            "text/plain": [
              "   longitude  latitude  housing_median_age  total_rooms  total_bedrooms  \\\n",
              "0    -117.20     33.14                19.0       2025.0           414.0   \n",
              "1    -117.22     33.14                 5.0       4576.0           848.0   \n",
              "2    -117.21     33.14                12.0       4839.0           954.0   \n",
              "3    -117.21     33.13                15.0       1889.0           368.0   \n",
              "4    -117.17     33.18                25.0        596.0           115.0   \n",
              "\n",
              "   population  households  median_income  ocean_proximity  \\\n",
              "0      1663.0       403.0        38147.0              0.0   \n",
              "1      2314.0       705.0        50123.0              3.0   \n",
              "2      1708.0       952.0        28586.0              0.0   \n",
              "3       754.0       409.0        22278.0              3.0   \n",
              "4       426.0       137.0        30221.0              0.0   \n",
              "\n",
              "   median_house_income  ann_predictions  \n",
              "0             139200.0    163501.453125  \n",
              "1             210400.0    209425.203125  \n",
              "2             163300.0    411590.312500  \n",
              "3             132800.0    252482.390625  \n",
              "4             214300.0    159138.531250  "
            ],
            "text/html": [
              "\n",
              "  <div id=\"df-bee15719-0977-4aa8-ba9b-9c63c4d9c35a\">\n",
              "    <div class=\"colab-df-container\">\n",
              "      <div>\n",
              "<style scoped>\n",
              "    .dataframe tbody tr th:only-of-type {\n",
              "        vertical-align: middle;\n",
              "    }\n",
              "\n",
              "    .dataframe tbody tr th {\n",
              "        vertical-align: top;\n",
              "    }\n",
              "\n",
              "    .dataframe thead th {\n",
              "        text-align: right;\n",
              "    }\n",
              "</style>\n",
              "<table border=\"1\" class=\"dataframe\">\n",
              "  <thead>\n",
              "    <tr style=\"text-align: right;\">\n",
              "      <th></th>\n",
              "      <th>longitude</th>\n",
              "      <th>latitude</th>\n",
              "      <th>housing_median_age</th>\n",
              "      <th>total_rooms</th>\n",
              "      <th>total_bedrooms</th>\n",
              "      <th>population</th>\n",
              "      <th>households</th>\n",
              "      <th>median_income</th>\n",
              "      <th>ocean_proximity</th>\n",
              "      <th>median_house_income</th>\n",
              "      <th>ann_predictions</th>\n",
              "    </tr>\n",
              "  </thead>\n",
              "  <tbody>\n",
              "    <tr>\n",
              "      <th>0</th>\n",
              "      <td>-117.20</td>\n",
              "      <td>33.14</td>\n",
              "      <td>19.0</td>\n",
              "      <td>2025.0</td>\n",
              "      <td>414.0</td>\n",
              "      <td>1663.0</td>\n",
              "      <td>403.0</td>\n",
              "      <td>38147.0</td>\n",
              "      <td>0.0</td>\n",
              "      <td>139200.0</td>\n",
              "      <td>163501.453125</td>\n",
              "    </tr>\n",
              "    <tr>\n",
              "      <th>1</th>\n",
              "      <td>-117.22</td>\n",
              "      <td>33.14</td>\n",
              "      <td>5.0</td>\n",
              "      <td>4576.0</td>\n",
              "      <td>848.0</td>\n",
              "      <td>2314.0</td>\n",
              "      <td>705.0</td>\n",
              "      <td>50123.0</td>\n",
              "      <td>3.0</td>\n",
              "      <td>210400.0</td>\n",
              "      <td>209425.203125</td>\n",
              "    </tr>\n",
              "    <tr>\n",
              "      <th>2</th>\n",
              "      <td>-117.21</td>\n",
              "      <td>33.14</td>\n",
              "      <td>12.0</td>\n",
              "      <td>4839.0</td>\n",
              "      <td>954.0</td>\n",
              "      <td>1708.0</td>\n",
              "      <td>952.0</td>\n",
              "      <td>28586.0</td>\n",
              "      <td>0.0</td>\n",
              "      <td>163300.0</td>\n",
              "      <td>411590.312500</td>\n",
              "    </tr>\n",
              "    <tr>\n",
              "      <th>3</th>\n",
              "      <td>-117.21</td>\n",
              "      <td>33.13</td>\n",
              "      <td>15.0</td>\n",
              "      <td>1889.0</td>\n",
              "      <td>368.0</td>\n",
              "      <td>754.0</td>\n",
              "      <td>409.0</td>\n",
              "      <td>22278.0</td>\n",
              "      <td>3.0</td>\n",
              "      <td>132800.0</td>\n",
              "      <td>252482.390625</td>\n",
              "    </tr>\n",
              "    <tr>\n",
              "      <th>4</th>\n",
              "      <td>-117.17</td>\n",
              "      <td>33.18</td>\n",
              "      <td>25.0</td>\n",
              "      <td>596.0</td>\n",
              "      <td>115.0</td>\n",
              "      <td>426.0</td>\n",
              "      <td>137.0</td>\n",
              "      <td>30221.0</td>\n",
              "      <td>0.0</td>\n",
              "      <td>214300.0</td>\n",
              "      <td>159138.531250</td>\n",
              "    </tr>\n",
              "  </tbody>\n",
              "</table>\n",
              "</div>\n",
              "      <button class=\"colab-df-convert\" onclick=\"convertToInteractive('df-bee15719-0977-4aa8-ba9b-9c63c4d9c35a')\"\n",
              "              title=\"Convert this dataframe to an interactive table.\"\n",
              "              style=\"display:none;\">\n",
              "        \n",
              "  <svg xmlns=\"http://www.w3.org/2000/svg\" height=\"24px\"viewBox=\"0 0 24 24\"\n",
              "       width=\"24px\">\n",
              "    <path d=\"M0 0h24v24H0V0z\" fill=\"none\"/>\n",
              "    <path d=\"M18.56 5.44l.94 2.06.94-2.06 2.06-.94-2.06-.94-.94-2.06-.94 2.06-2.06.94zm-11 1L8.5 8.5l.94-2.06 2.06-.94-2.06-.94L8.5 2.5l-.94 2.06-2.06.94zm10 10l.94 2.06.94-2.06 2.06-.94-2.06-.94-.94-2.06-.94 2.06-2.06.94z\"/><path d=\"M17.41 7.96l-1.37-1.37c-.4-.4-.92-.59-1.43-.59-.52 0-1.04.2-1.43.59L10.3 9.45l-7.72 7.72c-.78.78-.78 2.05 0 2.83L4 21.41c.39.39.9.59 1.41.59.51 0 1.02-.2 1.41-.59l7.78-7.78 2.81-2.81c.8-.78.8-2.07 0-2.86zM5.41 20L4 18.59l7.72-7.72 1.47 1.35L5.41 20z\"/>\n",
              "  </svg>\n",
              "      </button>\n",
              "      \n",
              "  <style>\n",
              "    .colab-df-container {\n",
              "      display:flex;\n",
              "      flex-wrap:wrap;\n",
              "      gap: 12px;\n",
              "    }\n",
              "\n",
              "    .colab-df-convert {\n",
              "      background-color: #E8F0FE;\n",
              "      border: none;\n",
              "      border-radius: 50%;\n",
              "      cursor: pointer;\n",
              "      display: none;\n",
              "      fill: #1967D2;\n",
              "      height: 32px;\n",
              "      padding: 0 0 0 0;\n",
              "      width: 32px;\n",
              "    }\n",
              "\n",
              "    .colab-df-convert:hover {\n",
              "      background-color: #E2EBFA;\n",
              "      box-shadow: 0px 1px 2px rgba(60, 64, 67, 0.3), 0px 1px 3px 1px rgba(60, 64, 67, 0.15);\n",
              "      fill: #174EA6;\n",
              "    }\n",
              "\n",
              "    [theme=dark] .colab-df-convert {\n",
              "      background-color: #3B4455;\n",
              "      fill: #D2E3FC;\n",
              "    }\n",
              "\n",
              "    [theme=dark] .colab-df-convert:hover {\n",
              "      background-color: #434B5C;\n",
              "      box-shadow: 0px 1px 3px 1px rgba(0, 0, 0, 0.15);\n",
              "      filter: drop-shadow(0px 1px 2px rgba(0, 0, 0, 0.3));\n",
              "      fill: #FFFFFF;\n",
              "    }\n",
              "  </style>\n",
              "\n",
              "      <script>\n",
              "        const buttonEl =\n",
              "          document.querySelector('#df-bee15719-0977-4aa8-ba9b-9c63c4d9c35a button.colab-df-convert');\n",
              "        buttonEl.style.display =\n",
              "          google.colab.kernel.accessAllowed ? 'block' : 'none';\n",
              "\n",
              "        async function convertToInteractive(key) {\n",
              "          const element = document.querySelector('#df-bee15719-0977-4aa8-ba9b-9c63c4d9c35a');\n",
              "          const dataTable =\n",
              "            await google.colab.kernel.invokeFunction('convertToInteractive',\n",
              "                                                     [key], {});\n",
              "          if (!dataTable) return;\n",
              "\n",
              "          const docLinkHtml = 'Like what you see? Visit the ' +\n",
              "            '<a target=\"_blank\" href=https://colab.research.google.com/notebooks/data_table.ipynb>data table notebook</a>'\n",
              "            + ' to learn more about interactive tables.';\n",
              "          element.innerHTML = '';\n",
              "          dataTable['output_type'] = 'display_data';\n",
              "          await google.colab.output.renderOutput(dataTable, element);\n",
              "          const docLink = document.createElement('div');\n",
              "          docLink.innerHTML = docLinkHtml;\n",
              "          element.appendChild(docLink);\n",
              "        }\n",
              "      </script>\n",
              "    </div>\n",
              "  </div>\n",
              "  "
            ]
          },
          "metadata": {},
          "execution_count": 19
        }
      ]
    },
    {
      "cell_type": "markdown",
      "source": [
        "We can also visualize the absolute percentage error (APE) from both predicted and actual value usng code below, then visualize it"
      ],
      "metadata": {
        "id": "qAk-VCG271_1"
      }
    },
    {
      "cell_type": "code",
      "source": [
        "import numpy as np\n",
        "\n",
        "ann_APE = 100*(abs(TestingData['median_house_income']-TestingData['ann_predictions'])/TestingData['median_house_income'])\n",
        "TestingData['ann_APE'] = ann_APE\n",
        "\n",
        "print('The Accuracy of ANN model is: {0:.3f}'.format(100-np.mean(ann_APE)))\n",
        "TestingData.head()"
      ],
      "metadata": {
        "colab": {
          "base_uri": "https://localhost:8080/",
          "height": 288
        },
        "id": "RQwd5qyT7xhL",
        "outputId": "58c3cc8a-1a1d-4fb0-9abf-595845dc4727"
      },
      "execution_count": 20,
      "outputs": [
        {
          "output_type": "stream",
          "name": "stdout",
          "text": [
            "The Accuracy of ANN model is: 60.439\n"
          ]
        },
        {
          "output_type": "execute_result",
          "data": {
            "text/plain": [
              "   longitude  latitude  housing_median_age  total_rooms  total_bedrooms  \\\n",
              "0    -117.20     33.14                19.0       2025.0           414.0   \n",
              "1    -117.22     33.14                 5.0       4576.0           848.0   \n",
              "2    -117.21     33.14                12.0       4839.0           954.0   \n",
              "3    -117.21     33.13                15.0       1889.0           368.0   \n",
              "4    -117.17     33.18                25.0        596.0           115.0   \n",
              "\n",
              "   population  households  median_income  ocean_proximity  \\\n",
              "0      1663.0       403.0        38147.0              0.0   \n",
              "1      2314.0       705.0        50123.0              3.0   \n",
              "2      1708.0       952.0        28586.0              0.0   \n",
              "3       754.0       409.0        22278.0              3.0   \n",
              "4       426.0       137.0        30221.0              0.0   \n",
              "\n",
              "   median_house_income  ann_predictions     ann_APE  \n",
              "0             139200.0    163501.453125   17.457940  \n",
              "1             210400.0    209425.203125    0.463306  \n",
              "2             163300.0    411590.312500  152.045507  \n",
              "3             132800.0    252482.390625   90.122282  \n",
              "4             214300.0    159138.531250   25.740303  "
            ],
            "text/html": [
              "\n",
              "  <div id=\"df-1f74f929-58f7-4c33-926c-ee1b58aaf7a5\">\n",
              "    <div class=\"colab-df-container\">\n",
              "      <div>\n",
              "<style scoped>\n",
              "    .dataframe tbody tr th:only-of-type {\n",
              "        vertical-align: middle;\n",
              "    }\n",
              "\n",
              "    .dataframe tbody tr th {\n",
              "        vertical-align: top;\n",
              "    }\n",
              "\n",
              "    .dataframe thead th {\n",
              "        text-align: right;\n",
              "    }\n",
              "</style>\n",
              "<table border=\"1\" class=\"dataframe\">\n",
              "  <thead>\n",
              "    <tr style=\"text-align: right;\">\n",
              "      <th></th>\n",
              "      <th>longitude</th>\n",
              "      <th>latitude</th>\n",
              "      <th>housing_median_age</th>\n",
              "      <th>total_rooms</th>\n",
              "      <th>total_bedrooms</th>\n",
              "      <th>population</th>\n",
              "      <th>households</th>\n",
              "      <th>median_income</th>\n",
              "      <th>ocean_proximity</th>\n",
              "      <th>median_house_income</th>\n",
              "      <th>ann_predictions</th>\n",
              "      <th>ann_APE</th>\n",
              "    </tr>\n",
              "  </thead>\n",
              "  <tbody>\n",
              "    <tr>\n",
              "      <th>0</th>\n",
              "      <td>-117.20</td>\n",
              "      <td>33.14</td>\n",
              "      <td>19.0</td>\n",
              "      <td>2025.0</td>\n",
              "      <td>414.0</td>\n",
              "      <td>1663.0</td>\n",
              "      <td>403.0</td>\n",
              "      <td>38147.0</td>\n",
              "      <td>0.0</td>\n",
              "      <td>139200.0</td>\n",
              "      <td>163501.453125</td>\n",
              "      <td>17.457940</td>\n",
              "    </tr>\n",
              "    <tr>\n",
              "      <th>1</th>\n",
              "      <td>-117.22</td>\n",
              "      <td>33.14</td>\n",
              "      <td>5.0</td>\n",
              "      <td>4576.0</td>\n",
              "      <td>848.0</td>\n",
              "      <td>2314.0</td>\n",
              "      <td>705.0</td>\n",
              "      <td>50123.0</td>\n",
              "      <td>3.0</td>\n",
              "      <td>210400.0</td>\n",
              "      <td>209425.203125</td>\n",
              "      <td>0.463306</td>\n",
              "    </tr>\n",
              "    <tr>\n",
              "      <th>2</th>\n",
              "      <td>-117.21</td>\n",
              "      <td>33.14</td>\n",
              "      <td>12.0</td>\n",
              "      <td>4839.0</td>\n",
              "      <td>954.0</td>\n",
              "      <td>1708.0</td>\n",
              "      <td>952.0</td>\n",
              "      <td>28586.0</td>\n",
              "      <td>0.0</td>\n",
              "      <td>163300.0</td>\n",
              "      <td>411590.312500</td>\n",
              "      <td>152.045507</td>\n",
              "    </tr>\n",
              "    <tr>\n",
              "      <th>3</th>\n",
              "      <td>-117.21</td>\n",
              "      <td>33.13</td>\n",
              "      <td>15.0</td>\n",
              "      <td>1889.0</td>\n",
              "      <td>368.0</td>\n",
              "      <td>754.0</td>\n",
              "      <td>409.0</td>\n",
              "      <td>22278.0</td>\n",
              "      <td>3.0</td>\n",
              "      <td>132800.0</td>\n",
              "      <td>252482.390625</td>\n",
              "      <td>90.122282</td>\n",
              "    </tr>\n",
              "    <tr>\n",
              "      <th>4</th>\n",
              "      <td>-117.17</td>\n",
              "      <td>33.18</td>\n",
              "      <td>25.0</td>\n",
              "      <td>596.0</td>\n",
              "      <td>115.0</td>\n",
              "      <td>426.0</td>\n",
              "      <td>137.0</td>\n",
              "      <td>30221.0</td>\n",
              "      <td>0.0</td>\n",
              "      <td>214300.0</td>\n",
              "      <td>159138.531250</td>\n",
              "      <td>25.740303</td>\n",
              "    </tr>\n",
              "  </tbody>\n",
              "</table>\n",
              "</div>\n",
              "      <button class=\"colab-df-convert\" onclick=\"convertToInteractive('df-1f74f929-58f7-4c33-926c-ee1b58aaf7a5')\"\n",
              "              title=\"Convert this dataframe to an interactive table.\"\n",
              "              style=\"display:none;\">\n",
              "        \n",
              "  <svg xmlns=\"http://www.w3.org/2000/svg\" height=\"24px\"viewBox=\"0 0 24 24\"\n",
              "       width=\"24px\">\n",
              "    <path d=\"M0 0h24v24H0V0z\" fill=\"none\"/>\n",
              "    <path d=\"M18.56 5.44l.94 2.06.94-2.06 2.06-.94-2.06-.94-.94-2.06-.94 2.06-2.06.94zm-11 1L8.5 8.5l.94-2.06 2.06-.94-2.06-.94L8.5 2.5l-.94 2.06-2.06.94zm10 10l.94 2.06.94-2.06 2.06-.94-2.06-.94-.94-2.06-.94 2.06-2.06.94z\"/><path d=\"M17.41 7.96l-1.37-1.37c-.4-.4-.92-.59-1.43-.59-.52 0-1.04.2-1.43.59L10.3 9.45l-7.72 7.72c-.78.78-.78 2.05 0 2.83L4 21.41c.39.39.9.59 1.41.59.51 0 1.02-.2 1.41-.59l7.78-7.78 2.81-2.81c.8-.78.8-2.07 0-2.86zM5.41 20L4 18.59l7.72-7.72 1.47 1.35L5.41 20z\"/>\n",
              "  </svg>\n",
              "      </button>\n",
              "      \n",
              "  <style>\n",
              "    .colab-df-container {\n",
              "      display:flex;\n",
              "      flex-wrap:wrap;\n",
              "      gap: 12px;\n",
              "    }\n",
              "\n",
              "    .colab-df-convert {\n",
              "      background-color: #E8F0FE;\n",
              "      border: none;\n",
              "      border-radius: 50%;\n",
              "      cursor: pointer;\n",
              "      display: none;\n",
              "      fill: #1967D2;\n",
              "      height: 32px;\n",
              "      padding: 0 0 0 0;\n",
              "      width: 32px;\n",
              "    }\n",
              "\n",
              "    .colab-df-convert:hover {\n",
              "      background-color: #E2EBFA;\n",
              "      box-shadow: 0px 1px 2px rgba(60, 64, 67, 0.3), 0px 1px 3px 1px rgba(60, 64, 67, 0.15);\n",
              "      fill: #174EA6;\n",
              "    }\n",
              "\n",
              "    [theme=dark] .colab-df-convert {\n",
              "      background-color: #3B4455;\n",
              "      fill: #D2E3FC;\n",
              "    }\n",
              "\n",
              "    [theme=dark] .colab-df-convert:hover {\n",
              "      background-color: #434B5C;\n",
              "      box-shadow: 0px 1px 3px 1px rgba(0, 0, 0, 0.15);\n",
              "      filter: drop-shadow(0px 1px 2px rgba(0, 0, 0, 0.3));\n",
              "      fill: #FFFFFF;\n",
              "    }\n",
              "  </style>\n",
              "\n",
              "      <script>\n",
              "        const buttonEl =\n",
              "          document.querySelector('#df-1f74f929-58f7-4c33-926c-ee1b58aaf7a5 button.colab-df-convert');\n",
              "        buttonEl.style.display =\n",
              "          google.colab.kernel.accessAllowed ? 'block' : 'none';\n",
              "\n",
              "        async function convertToInteractive(key) {\n",
              "          const element = document.querySelector('#df-1f74f929-58f7-4c33-926c-ee1b58aaf7a5');\n",
              "          const dataTable =\n",
              "            await google.colab.kernel.invokeFunction('convertToInteractive',\n",
              "                                                     [key], {});\n",
              "          if (!dataTable) return;\n",
              "\n",
              "          const docLinkHtml = 'Like what you see? Visit the ' +\n",
              "            '<a target=\"_blank\" href=https://colab.research.google.com/notebooks/data_table.ipynb>data table notebook</a>'\n",
              "            + ' to learn more about interactive tables.';\n",
              "          element.innerHTML = '';\n",
              "          dataTable['output_type'] = 'display_data';\n",
              "          await google.colab.output.renderOutput(dataTable, element);\n",
              "          const docLink = document.createElement('div');\n",
              "          docLink.innerHTML = docLinkHtml;\n",
              "          element.appendChild(docLink);\n",
              "        }\n",
              "      </script>\n",
              "    </div>\n",
              "  </div>\n",
              "  "
            ]
          },
          "metadata": {},
          "execution_count": 20
        }
      ]
    },
    {
      "cell_type": "markdown",
      "source": [
        "Visualized the result using matplotlib"
      ],
      "metadata": {
        "id": "HwQMdib18RMN"
      }
    },
    {
      "cell_type": "code",
      "source": [
        "import matplotlib.pyplot as plt\n",
        "\n",
        "plt.figure(figsize=(15, 6))\n",
        "plt.plot(TestingData['median_house_income'][0:100], lw =2, ls = '-', label = 'Actual data')\n",
        "plt.plot(TestingData['ann_predictions'][0:100], lw =3, ls = '--', label = 'ANN Prediction')\n",
        "plt.xlabel('Total House', fontsize=15)\n",
        "plt.ylabel('Price', fontsize=15)\n",
        "plt.title('Top 200 Actual vs Predicted House value')\n",
        "plt.legend()"
      ],
      "metadata": {
        "colab": {
          "base_uri": "https://localhost:8080/",
          "height": 426
        },
        "id": "uusSyQii8Lg2",
        "outputId": "68eb8580-6396-4565-df4c-971f74154434"
      },
      "execution_count": 21,
      "outputs": [
        {
          "output_type": "execute_result",
          "data": {
            "text/plain": [
              "<matplotlib.legend.Legend at 0x7f64506c9150>"
            ]
          },
          "metadata": {},
          "execution_count": 21
        },
        {
          "output_type": "display_data",
          "data": {
            "text/plain": [
              "<Figure size 1080x432 with 1 Axes>"
            ],
            "image/png": "[encoded data removed]"
          },
          "metadata": {
            "needs_background": "light"
          }
        }
      ]
    }
  ]
}